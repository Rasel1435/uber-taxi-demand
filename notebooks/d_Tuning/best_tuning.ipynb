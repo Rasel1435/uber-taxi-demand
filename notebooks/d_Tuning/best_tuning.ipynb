{
 "cells": [
  {
   "cell_type": "markdown",
   "id": "7e376605",
   "metadata": {},
   "source": [
    "# Import Necessary Libraries"
   ]
  },
  {
   "cell_type": "code",
   "execution_count": 13,
   "id": "848bf4ae",
   "metadata": {},
   "outputs": [],
   "source": [
    "import pandas as pd\n",
    "import numpy as np\n",
    "import  mlflow.sklearn\n",
    "import matplotlib.pyplot as plt\n",
    "import mlflow, argparse, joblib, warnings, itertools, pickle\n",
    "# For Runtime Measurement\n",
    "import time, timeit\n",
    "# For Memory Usage\n",
    "import psutil\n",
    "warnings.filterwarnings('ignore')\n",
    "\n",
    "# metrix,\n",
    "from sklearn.metrics import mean_squared_error, mean_absolute_error, mean_absolute_percentage_error,r2_score, accuracy_score, f1_score\n",
    "\n",
    "#Algorithms\n",
    "from scipy.stats import randint\n",
    "# from statsmodels.tsa.arima.model import ARIMAS\n",
    "import statsmodels.api as sm\n",
    "import xgboost as xgb\n",
    "\n",
    "#Models\n",
    "from sklearn.model_selection import train_test_split, GridSearchCV, RandomizedSearchCV, cross_val_score"
   ]
  },
  {
   "cell_type": "markdown",
   "id": "be4913e6",
   "metadata": {},
   "source": [
    "# Loading Data"
   ]
  },
  {
   "cell_type": "code",
   "execution_count": 17,
   "id": "6da1684c",
   "metadata": {},
   "outputs": [
    {
     "data": {
      "text/html": [
       "<div>\n",
       "<style scoped>\n",
       "    .dataframe tbody tr th:only-of-type {\n",
       "        vertical-align: middle;\n",
       "    }\n",
       "\n",
       "    .dataframe tbody tr th {\n",
       "        vertical-align: top;\n",
       "    }\n",
       "\n",
       "    .dataframe thead th {\n",
       "        text-align: right;\n",
       "    }\n",
       "</style>\n",
       "<table border=\"1\" class=\"dataframe\">\n",
       "  <thead>\n",
       "    <tr style=\"text-align: right;\">\n",
       "      <th></th>\n",
       "      <th>PC1</th>\n",
       "      <th>PC2</th>\n",
       "      <th>PC3</th>\n",
       "      <th>PC4</th>\n",
       "      <th>PC5</th>\n",
       "      <th>PC6</th>\n",
       "      <th>PC7</th>\n",
       "      <th>PC8</th>\n",
       "      <th>PC9</th>\n",
       "      <th>PC10</th>\n",
       "      <th>PC11</th>\n",
       "      <th>PC12</th>\n",
       "      <th>PC13</th>\n",
       "      <th>PC14</th>\n",
       "      <th>PC15</th>\n",
       "      <th>PC16</th>\n",
       "      <th>PC17</th>\n",
       "      <th>PC18</th>\n",
       "      <th>PC19</th>\n",
       "      <th>taxi_demand</th>\n",
       "    </tr>\n",
       "  </thead>\n",
       "  <tbody>\n",
       "    <tr>\n",
       "      <th>0</th>\n",
       "      <td>7232.423961</td>\n",
       "      <td>1.917840</td>\n",
       "      <td>3.593047</td>\n",
       "      <td>-1.520966</td>\n",
       "      <td>1.378757</td>\n",
       "      <td>1.594858</td>\n",
       "      <td>-0.398472</td>\n",
       "      <td>-0.214360</td>\n",
       "      <td>-2.450065</td>\n",
       "      <td>-0.298501</td>\n",
       "      <td>-2.372837</td>\n",
       "      <td>0.853763</td>\n",
       "      <td>-1.258673</td>\n",
       "      <td>-0.016103</td>\n",
       "      <td>-2.541717e-15</td>\n",
       "      <td>-4.228377e-14</td>\n",
       "      <td>1.265271e-17</td>\n",
       "      <td>9.903077e-21</td>\n",
       "      <td>-6.415206e-32</td>\n",
       "      <td>-0.086022</td>\n",
       "    </tr>\n",
       "    <tr>\n",
       "      <th>1</th>\n",
       "      <td>8450.424030</td>\n",
       "      <td>2.242227</td>\n",
       "      <td>3.789262</td>\n",
       "      <td>-0.164432</td>\n",
       "      <td>1.304658</td>\n",
       "      <td>0.776806</td>\n",
       "      <td>-0.565016</td>\n",
       "      <td>0.171054</td>\n",
       "      <td>-2.796305</td>\n",
       "      <td>-0.094508</td>\n",
       "      <td>-2.241521</td>\n",
       "      <td>1.258338</td>\n",
       "      <td>0.361904</td>\n",
       "      <td>0.040717</td>\n",
       "      <td>5.565055e-13</td>\n",
       "      <td>-2.290931e-16</td>\n",
       "      <td>-2.459113e-16</td>\n",
       "      <td>3.465575e-21</td>\n",
       "      <td>2.819584e-30</td>\n",
       "      <td>-0.086022</td>\n",
       "    </tr>\n",
       "    <tr>\n",
       "      <th>2</th>\n",
       "      <td>7568.423905</td>\n",
       "      <td>2.921402</td>\n",
       "      <td>3.676932</td>\n",
       "      <td>0.123669</td>\n",
       "      <td>1.305928</td>\n",
       "      <td>0.252489</td>\n",
       "      <td>-0.408997</td>\n",
       "      <td>0.327325</td>\n",
       "      <td>-2.931228</td>\n",
       "      <td>-0.347989</td>\n",
       "      <td>-2.125539</td>\n",
       "      <td>1.834953</td>\n",
       "      <td>0.778209</td>\n",
       "      <td>0.013537</td>\n",
       "      <td>-7.894685e-16</td>\n",
       "      <td>9.182485e-14</td>\n",
       "      <td>4.328383e-17</td>\n",
       "      <td>1.672041e-20</td>\n",
       "      <td>-5.235990e-31</td>\n",
       "      <td>-0.086022</td>\n",
       "    </tr>\n",
       "    <tr>\n",
       "      <th>3</th>\n",
       "      <td>9988.423917</td>\n",
       "      <td>4.125735</td>\n",
       "      <td>3.488578</td>\n",
       "      <td>0.979430</td>\n",
       "      <td>1.287473</td>\n",
       "      <td>-0.610574</td>\n",
       "      <td>-0.368645</td>\n",
       "      <td>0.694405</td>\n",
       "      <td>-3.199143</td>\n",
       "      <td>-0.312189</td>\n",
       "      <td>-1.877975</td>\n",
       "      <td>3.015216</td>\n",
       "      <td>1.453752</td>\n",
       "      <td>-0.073135</td>\n",
       "      <td>-2.309535e-15</td>\n",
       "      <td>1.066815e-13</td>\n",
       "      <td>-4.836991e-18</td>\n",
       "      <td>-1.045812e-19</td>\n",
       "      <td>-4.348663e-31</td>\n",
       "      <td>-0.086022</td>\n",
       "    </tr>\n",
       "    <tr>\n",
       "      <th>4</th>\n",
       "      <td>11093.423843</td>\n",
       "      <td>5.250869</td>\n",
       "      <td>3.348828</td>\n",
       "      <td>1.852266</td>\n",
       "      <td>1.265425</td>\n",
       "      <td>-1.525679</td>\n",
       "      <td>-0.294683</td>\n",
       "      <td>1.056983</td>\n",
       "      <td>-3.481290</td>\n",
       "      <td>-0.309485</td>\n",
       "      <td>-1.655867</td>\n",
       "      <td>4.082340</td>\n",
       "      <td>2.310911</td>\n",
       "      <td>-0.079123</td>\n",
       "      <td>1.132270e-15</td>\n",
       "      <td>1.138803e-14</td>\n",
       "      <td>4.044429e-17</td>\n",
       "      <td>-7.080540e-19</td>\n",
       "      <td>-2.756465e-30</td>\n",
       "      <td>-0.086022</td>\n",
       "    </tr>\n",
       "  </tbody>\n",
       "</table>\n",
       "</div>"
      ],
      "text/plain": [
       "            PC1       PC2       PC3       PC4       PC5       PC6       PC7  \\\n",
       "0   7232.423961  1.917840  3.593047 -1.520966  1.378757  1.594858 -0.398472   \n",
       "1   8450.424030  2.242227  3.789262 -0.164432  1.304658  0.776806 -0.565016   \n",
       "2   7568.423905  2.921402  3.676932  0.123669  1.305928  0.252489 -0.408997   \n",
       "3   9988.423917  4.125735  3.488578  0.979430  1.287473 -0.610574 -0.368645   \n",
       "4  11093.423843  5.250869  3.348828  1.852266  1.265425 -1.525679 -0.294683   \n",
       "\n",
       "        PC8       PC9      PC10      PC11      PC12      PC13      PC14  \\\n",
       "0 -0.214360 -2.450065 -0.298501 -2.372837  0.853763 -1.258673 -0.016103   \n",
       "1  0.171054 -2.796305 -0.094508 -2.241521  1.258338  0.361904  0.040717   \n",
       "2  0.327325 -2.931228 -0.347989 -2.125539  1.834953  0.778209  0.013537   \n",
       "3  0.694405 -3.199143 -0.312189 -1.877975  3.015216  1.453752 -0.073135   \n",
       "4  1.056983 -3.481290 -0.309485 -1.655867  4.082340  2.310911 -0.079123   \n",
       "\n",
       "           PC15          PC16          PC17          PC18          PC19  \\\n",
       "0 -2.541717e-15 -4.228377e-14  1.265271e-17  9.903077e-21 -6.415206e-32   \n",
       "1  5.565055e-13 -2.290931e-16 -2.459113e-16  3.465575e-21  2.819584e-30   \n",
       "2 -7.894685e-16  9.182485e-14  4.328383e-17  1.672041e-20 -5.235990e-31   \n",
       "3 -2.309535e-15  1.066815e-13 -4.836991e-18 -1.045812e-19 -4.348663e-31   \n",
       "4  1.132270e-15  1.138803e-14  4.044429e-17 -7.080540e-19 -2.756465e-30   \n",
       "\n",
       "   taxi_demand  \n",
       "0    -0.086022  \n",
       "1    -0.086022  \n",
       "2    -0.086022  \n",
       "3    -0.086022  \n",
       "4    -0.086022  "
      ]
     },
     "execution_count": 17,
     "metadata": {},
     "output_type": "execute_result"
    }
   ],
   "source": [
    "df = pd.read_parquet(r\"../../data/2022/V6_ReduceDimension_Data.parquet\")\n",
    "df.head()"
   ]
  },
  {
   "cell_type": "code",
   "execution_count": 18,
   "id": "2db5f586",
   "metadata": {},
   "outputs": [
    {
     "data": {
      "text/plain": [
       "(8713, 20)"
      ]
     },
     "execution_count": 18,
     "metadata": {},
     "output_type": "execute_result"
    }
   ],
   "source": [
    "df.shape"
   ]
  },
  {
   "cell_type": "code",
   "execution_count": 23,
   "id": "f0f679e9",
   "metadata": {},
   "outputs": [],
   "source": [
    "# splitig\n",
    "X = df.drop(columns= [\"taxi_demand\",])\n",
    "y = df.taxi_demand"
   ]
  },
  {
   "cell_type": "code",
   "execution_count": 24,
   "id": "a997e599",
   "metadata": {},
   "outputs": [
    {
     "data": {
      "text/plain": [
       "0"
      ]
     },
     "execution_count": 24,
     "metadata": {},
     "output_type": "execute_result"
    }
   ],
   "source": [
    "y.isnull().sum()"
   ]
  },
  {
   "cell_type": "code",
   "execution_count": 20,
   "id": "07fb1221",
   "metadata": {},
   "outputs": [],
   "source": [
    "# Load and preprocess your data (X, y)\n",
    "X_train, X_test, y_train, y_test = train_test_split(X, y, test_size=0.2, random_state=42)"
   ]
  },
  {
   "cell_type": "code",
   "execution_count": 21,
   "id": "da063127",
   "metadata": {},
   "outputs": [
    {
     "data": {
      "text/plain": [
       "((6970, 19), (1743, 19))"
      ]
     },
     "execution_count": 21,
     "metadata": {},
     "output_type": "execute_result"
    }
   ],
   "source": [
    "X_train.shape, X_test.shape"
   ]
  },
  {
   "cell_type": "code",
   "execution_count": 22,
   "id": "52590835",
   "metadata": {},
   "outputs": [
    {
     "data": {
      "text/plain": [
       "((6970,), (1743,))"
      ]
     },
     "execution_count": 22,
     "metadata": {},
     "output_type": "execute_result"
    }
   ],
   "source": [
    "y_train.shape, y_test.shape"
   ]
  },
  {
   "cell_type": "markdown",
   "id": "0276a2be",
   "metadata": {},
   "source": [
    "# XGBoost"
   ]
  },
  {
   "cell_type": "code",
   "execution_count": 32,
   "id": "95004642",
   "metadata": {},
   "outputs": [
    {
     "name": "stdout",
     "output_type": "stream",
     "text": [
      " \n",
      "mean_squared_error: 0.3096306205540846\n",
      "mean_absolute_percentage_error: 0.1436505680221113\n",
      "mean_absolute_error: 0.02822608843267488\n",
      "r2_score: 0.9122655829754972\n",
      " \n",
      "{'colsample_bytree': 0.7, 'eval_metric': 'mae', 'gamma': 0, 'max_depth': 13, 'min_child_weight': 2, 'n_estimators': 466, 'nthread': 5}\n",
      " \n"
     ]
    }
   ],
   "source": [
    "mlflow.set_experiment(\"XGBoostTuning\")\n",
    "\n",
    "with mlflow.start_run():\n",
    "    x_model = xgb.XGBRFRegressor()\n",
    "\n",
    "    param_dist = {\n",
    "        'max_depth':  randint(1,16), #[3,4,5]\n",
    "        'n_estimators': randint(100,600),\n",
    "        'min_child_weight': randint(1,16), #[3, 4,5,6]\n",
    "        'gamma': [0,0.1,0.2],\n",
    "        'colsample_bytree':[0.7,0.8,0.9],\n",
    "        'nthread': randint(1,16), #[3,4,5]\n",
    "#         'reg_lambda': [0, 1, 10],\n",
    "#         'objective': ['reg:squarederror', 'reg:squaredlogerror'],\n",
    "        'eval_metric': ['rmse', 'mae'],\n",
    "    }\n",
    "\n",
    "    # run a randomized search\n",
    "    n_iter_search = 20\n",
    "    random_search = RandomizedSearchCV(x_model, param_distributions = param_dist, n_iter = n_iter_search,\n",
    "                                       random_state=42)\n",
    "    # fit the model\n",
    "    random_search.fit(X_train, y_train)\n",
    "    # Predict on the test set using the best estimator from the grid search\n",
    "    y_pred = random_search.best_estimator_.predict(X_test)\n",
    "    # Log parameters\n",
    "    mlflow.log_params(random_search.best_params_)\n",
    "    \n",
    "    # Calculate and log the evaluation metric (e.g., RMSE)\n",
    "    rmse = mean_squared_error(y_test, y_pred, squared=False)\n",
    "    mape = mean_absolute_percentage_error(y_test, y_pred)\n",
    "    mae = mean_absolute_error(y_test, y_pred)\n",
    "    r2 = r2_score(y_test, y_pred)\n",
    "\n",
    "    print(\" \",end='\\n')\n",
    "    print(f\"mean_squared_error: {rmse}\")\n",
    "    print(f\"mean_absolute_percentage_error: {mape}\")\n",
    "    print(f\"mean_absolute_error: {mae}\")\n",
    "    print(f\"r2_score: {r2}\")\n",
    "    print(\" \",end='\\n')\n",
    "    print(random_search.best_params_)\n",
    "    print(\" \",end='\\n')\n",
    "\n",
    "    #Log Matrics\n",
    "    mlflow.log_metrics({\n",
    "        \"RMSE\": rmse,\n",
    "        \"MAE\": mae,\n",
    "        \"MAPE0\": mape,\n",
    "        \"R2_SCORE\": r2\n",
    "    })\n",
    "        \n",
    "    # # Log the best model using MLflow\n",
    "    mlflow.sklearn.log_model(x_model, 'XGBoost')"
   ]
  },
  {
   "cell_type": "markdown",
   "id": "18408af4",
   "metadata": {},
   "source": [
    "# Visualization Testing"
   ]
  },
  {
   "cell_type": "code",
   "execution_count": 19,
   "id": "17ccd4e5",
   "metadata": {},
   "outputs": [],
   "source": [
    "score = []\n",
    "\n",
    "for i in range(1,16):\n",
    "    x_model = xgb.XGBRFRegressor(gamma = i)\n",
    "    x_model.fit(X_train, y_train)\n",
    "    y_pred = x_model.predict(X_test)\n",
    "    score.append(r2_score(y_test, y_pred))"
   ]
  },
  {
   "cell_type": "code",
   "execution_count": 20,
   "id": "01257398",
   "metadata": {},
   "outputs": [
    {
     "data": {
      "image/png": "[encoded data removed]",
      "text/plain": [
       "<Figure size 800x600 with 1 Axes>"
      ]
     },
     "metadata": {},
     "output_type": "display_data"
    }
   ],
   "source": [
    "plt.figure(figsize=(8, 6))\n",
    "plt.plot(range(1, 16), score, marker='o', color=\"green\")  # Plotting n_neighbors vs R2 score\n",
    "plt.title('R2 Score vs Number of gamma', weight=\"bold\")\n",
    "plt.xlabel('Number of gamma (gamma)')\n",
    "plt.ylabel('R2 Score')\n",
    "plt.grid(True)\n",
    "plt.show()"
   ]
  },
  {
   "cell_type": "code",
   "execution_count": null,
   "id": "8274e4af",
   "metadata": {},
   "outputs": [],
   "source": []
  }
 ],
 "metadata": {
  "kernelspec": {
   "display_name": "Python 3 (ipykernel)",
   "language": "python",
   "name": "python3"
  },
  "language_info": {
   "codemirror_mode": {
    "name": "ipython",
    "version": 3
   },
   "file_extension": ".py",
   "mimetype": "text/x-python",
   "name": "python",
   "nbconvert_exporter": "python",
   "pygments_lexer": "ipython3",
   "version": "3.10.6"
  }
 },
 "nbformat": 4,
 "nbformat_minor": 5
}
