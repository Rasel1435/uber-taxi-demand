{
 "cells": [
  {
   "cell_type": "markdown",
   "id": "de9f45b4-eff5-4914-803b-9c285c2e1eeb",
   "metadata": {},
   "source": [
    "# Import Necessary Librires "
   ]
  },
  {
   "cell_type": "code",
   "execution_count": 3,
   "id": "5e5a46fd-4406-47c4-9ddd-7361d9d7cfc4",
   "metadata": {},
   "outputs": [],
   "source": [
    "import pandas as pd\n",
    "import numpy as np\n",
    "import  mlflow.sklearn\n",
    "import matplotlib.pyplot as plt\n",
    "import mlflow, argparse, joblib, warnings, itertools, pickle\n",
    "warnings.filterwarnings('ignore')\n",
    "\n",
    "# metrix,\n",
    "from sklearn.metrics import mean_squared_error, mean_absolute_error, mean_absolute_percentage_error, r2_score, accuracy_score, f1_score\n",
    "\n",
    "#Algorithms\n",
    "from sklearn.linear_model import LinearRegression\n",
    "from sklearn.neighbors import KNeighborsRegressor\n",
    "from sklearn.ensemble import BaggingRegressor\n",
    "from statsmodels.tsa.arima.model import ARIMA\n",
    "import statsmodels.api as sm\n",
    "import xgboost as xgb\n",
    "\n",
    "#Models\n",
    "from sktime.forecasting.model_selection import ForecastingGridSearchCV\n",
    "from sklearn.model_selection import train_test_split, GridSearchCV, RandomizedSearchCV, cross_val_score"
   ]
  },
  {
   "cell_type": "markdown",
   "id": "22bb9817-3be6-4924-a15a-c253d3031696",
   "metadata": {},
   "source": [
    "# Loading Data"
   ]
  },
  {
   "cell_type": "code",
   "execution_count": 2,
   "id": "17aafec9-adcd-4780-82c2-297ec5a8ad61",
   "metadata": {},
   "outputs": [
    {
     "data": {
      "text/html": [
       "<div>\n",
       "<style scoped>\n",
       "    .dataframe tbody tr th:only-of-type {\n",
       "        vertical-align: middle;\n",
       "    }\n",
       "\n",
       "    .dataframe tbody tr th {\n",
       "        vertical-align: top;\n",
       "    }\n",
       "\n",
       "    .dataframe thead th {\n",
       "        text-align: right;\n",
       "    }\n",
       "</style>\n",
       "<table border=\"1\" class=\"dataframe\">\n",
       "  <thead>\n",
       "    <tr style=\"text-align: right;\">\n",
       "      <th></th>\n",
       "      <th>PC1</th>\n",
       "      <th>PC2</th>\n",
       "      <th>PC3</th>\n",
       "      <th>PC4</th>\n",
       "      <th>PC5</th>\n",
       "      <th>PC6</th>\n",
       "      <th>PC7</th>\n",
       "      <th>PC8</th>\n",
       "      <th>PC9</th>\n",
       "      <th>PC10</th>\n",
       "      <th>PC11</th>\n",
       "      <th>PC12</th>\n",
       "      <th>PC13</th>\n",
       "      <th>PC14</th>\n",
       "      <th>PC15</th>\n",
       "      <th>PC16</th>\n",
       "      <th>PC17</th>\n",
       "      <th>PC18</th>\n",
       "      <th>PC19</th>\n",
       "      <th>taxi_demand</th>\n",
       "    </tr>\n",
       "  </thead>\n",
       "  <tbody>\n",
       "    <tr>\n",
       "      <th>0</th>\n",
       "      <td>7232.423961</td>\n",
       "      <td>1.917840</td>\n",
       "      <td>3.593047</td>\n",
       "      <td>-1.520966</td>\n",
       "      <td>1.378757</td>\n",
       "      <td>1.594858</td>\n",
       "      <td>-0.398472</td>\n",
       "      <td>-0.214360</td>\n",
       "      <td>-2.450065</td>\n",
       "      <td>-0.298501</td>\n",
       "      <td>-2.372837</td>\n",
       "      <td>0.853763</td>\n",
       "      <td>-1.258673</td>\n",
       "      <td>-0.016103</td>\n",
       "      <td>-2.541717e-15</td>\n",
       "      <td>-4.228377e-14</td>\n",
       "      <td>1.265271e-17</td>\n",
       "      <td>9.903077e-21</td>\n",
       "      <td>-6.415206e-32</td>\n",
       "      <td>-0.086022</td>\n",
       "    </tr>\n",
       "    <tr>\n",
       "      <th>1</th>\n",
       "      <td>8450.424030</td>\n",
       "      <td>2.242227</td>\n",
       "      <td>3.789262</td>\n",
       "      <td>-0.164432</td>\n",
       "      <td>1.304658</td>\n",
       "      <td>0.776806</td>\n",
       "      <td>-0.565016</td>\n",
       "      <td>0.171054</td>\n",
       "      <td>-2.796305</td>\n",
       "      <td>-0.094508</td>\n",
       "      <td>-2.241521</td>\n",
       "      <td>1.258338</td>\n",
       "      <td>0.361904</td>\n",
       "      <td>0.040717</td>\n",
       "      <td>5.565055e-13</td>\n",
       "      <td>-2.290931e-16</td>\n",
       "      <td>-2.459113e-16</td>\n",
       "      <td>3.465575e-21</td>\n",
       "      <td>2.819584e-30</td>\n",
       "      <td>-0.086022</td>\n",
       "    </tr>\n",
       "    <tr>\n",
       "      <th>2</th>\n",
       "      <td>7568.423905</td>\n",
       "      <td>2.921402</td>\n",
       "      <td>3.676932</td>\n",
       "      <td>0.123669</td>\n",
       "      <td>1.305928</td>\n",
       "      <td>0.252489</td>\n",
       "      <td>-0.408997</td>\n",
       "      <td>0.327325</td>\n",
       "      <td>-2.931228</td>\n",
       "      <td>-0.347989</td>\n",
       "      <td>-2.125539</td>\n",
       "      <td>1.834953</td>\n",
       "      <td>0.778209</td>\n",
       "      <td>0.013537</td>\n",
       "      <td>-7.894685e-16</td>\n",
       "      <td>9.182485e-14</td>\n",
       "      <td>4.328383e-17</td>\n",
       "      <td>1.672041e-20</td>\n",
       "      <td>-5.235990e-31</td>\n",
       "      <td>-0.086022</td>\n",
       "    </tr>\n",
       "    <tr>\n",
       "      <th>3</th>\n",
       "      <td>9988.423917</td>\n",
       "      <td>4.125735</td>\n",
       "      <td>3.488578</td>\n",
       "      <td>0.979430</td>\n",
       "      <td>1.287473</td>\n",
       "      <td>-0.610574</td>\n",
       "      <td>-0.368645</td>\n",
       "      <td>0.694405</td>\n",
       "      <td>-3.199143</td>\n",
       "      <td>-0.312189</td>\n",
       "      <td>-1.877975</td>\n",
       "      <td>3.015216</td>\n",
       "      <td>1.453752</td>\n",
       "      <td>-0.073135</td>\n",
       "      <td>-2.309535e-15</td>\n",
       "      <td>1.066815e-13</td>\n",
       "      <td>-4.836991e-18</td>\n",
       "      <td>-1.045812e-19</td>\n",
       "      <td>-4.348663e-31</td>\n",
       "      <td>-0.086022</td>\n",
       "    </tr>\n",
       "    <tr>\n",
       "      <th>4</th>\n",
       "      <td>11093.423843</td>\n",
       "      <td>5.250869</td>\n",
       "      <td>3.348828</td>\n",
       "      <td>1.852266</td>\n",
       "      <td>1.265425</td>\n",
       "      <td>-1.525679</td>\n",
       "      <td>-0.294683</td>\n",
       "      <td>1.056983</td>\n",
       "      <td>-3.481290</td>\n",
       "      <td>-0.309485</td>\n",
       "      <td>-1.655867</td>\n",
       "      <td>4.082340</td>\n",
       "      <td>2.310911</td>\n",
       "      <td>-0.079123</td>\n",
       "      <td>1.132270e-15</td>\n",
       "      <td>1.138803e-14</td>\n",
       "      <td>4.044429e-17</td>\n",
       "      <td>-7.080540e-19</td>\n",
       "      <td>-2.756465e-30</td>\n",
       "      <td>-0.086022</td>\n",
       "    </tr>\n",
       "  </tbody>\n",
       "</table>\n",
       "</div>"
      ],
      "text/plain": [
       "            PC1       PC2       PC3       PC4       PC5       PC6       PC7  \\\n",
       "0   7232.423961  1.917840  3.593047 -1.520966  1.378757  1.594858 -0.398472   \n",
       "1   8450.424030  2.242227  3.789262 -0.164432  1.304658  0.776806 -0.565016   \n",
       "2   7568.423905  2.921402  3.676932  0.123669  1.305928  0.252489 -0.408997   \n",
       "3   9988.423917  4.125735  3.488578  0.979430  1.287473 -0.610574 -0.368645   \n",
       "4  11093.423843  5.250869  3.348828  1.852266  1.265425 -1.525679 -0.294683   \n",
       "\n",
       "        PC8       PC9      PC10      PC11      PC12      PC13      PC14  \\\n",
       "0 -0.214360 -2.450065 -0.298501 -2.372837  0.853763 -1.258673 -0.016103   \n",
       "1  0.171054 -2.796305 -0.094508 -2.241521  1.258338  0.361904  0.040717   \n",
       "2  0.327325 -2.931228 -0.347989 -2.125539  1.834953  0.778209  0.013537   \n",
       "3  0.694405 -3.199143 -0.312189 -1.877975  3.015216  1.453752 -0.073135   \n",
       "4  1.056983 -3.481290 -0.309485 -1.655867  4.082340  2.310911 -0.079123   \n",
       "\n",
       "           PC15          PC16          PC17          PC18          PC19  \\\n",
       "0 -2.541717e-15 -4.228377e-14  1.265271e-17  9.903077e-21 -6.415206e-32   \n",
       "1  5.565055e-13 -2.290931e-16 -2.459113e-16  3.465575e-21  2.819584e-30   \n",
       "2 -7.894685e-16  9.182485e-14  4.328383e-17  1.672041e-20 -5.235990e-31   \n",
       "3 -2.309535e-15  1.066815e-13 -4.836991e-18 -1.045812e-19 -4.348663e-31   \n",
       "4  1.132270e-15  1.138803e-14  4.044429e-17 -7.080540e-19 -2.756465e-30   \n",
       "\n",
       "   taxi_demand  \n",
       "0    -0.086022  \n",
       "1    -0.086022  \n",
       "2    -0.086022  \n",
       "3    -0.086022  \n",
       "4    -0.086022  "
      ]
     },
     "execution_count": 2,
     "metadata": {},
     "output_type": "execute_result"
    }
   ],
   "source": [
    "df = pd.read_parquet(r\"../data/V6_ReduceDimension_Data.parquet\")\n",
    "df.head()"
   ]
  },
  {
   "cell_type": "code",
   "execution_count": 3,
   "id": "7af04af1-00da-486b-a2bb-6d3ec62cb871",
   "metadata": {},
   "outputs": [
    {
     "data": {
      "text/plain": [
       "(8713, 20)"
      ]
     },
     "execution_count": 3,
     "metadata": {},
     "output_type": "execute_result"
    }
   ],
   "source": [
    "df.shape"
   ]
  },
  {
   "cell_type": "code",
   "execution_count": 4,
   "id": "3a622f38-c911-4e2c-848b-0b46a653e887",
   "metadata": {},
   "outputs": [],
   "source": [
    "# splitig\n",
    "X = df.drop(columns= [\"taxi_demand\",])\n",
    "y = df.taxi_demand"
   ]
  },
  {
   "cell_type": "code",
   "execution_count": 5,
   "id": "6dfe42da-38ea-460f-bfd2-071e4909c78d",
   "metadata": {},
   "outputs": [],
   "source": [
    "# Load and preprocess your data (X, y)\n",
    "X_train, X_test, y_train, y_test = train_test_split(X, y, test_size=0.2, random_state=33)"
   ]
  },
  {
   "cell_type": "code",
   "execution_count": 6,
   "id": "4c4f4359-faa7-4788-b8d9-2c9f6313310c",
   "metadata": {},
   "outputs": [
    {
     "data": {
      "text/plain": [
       "((6970, 19), (1743, 19))"
      ]
     },
     "execution_count": 6,
     "metadata": {},
     "output_type": "execute_result"
    }
   ],
   "source": [
    "X_train.shape, X_test.shape"
   ]
  },
  {
   "cell_type": "code",
   "execution_count": 7,
   "id": "6cdec584-d122-4111-8372-a32f9d39d695",
   "metadata": {},
   "outputs": [
    {
     "data": {
      "text/plain": [
       "((6970,), (1743,))"
      ]
     },
     "execution_count": 7,
     "metadata": {},
     "output_type": "execute_result"
    }
   ],
   "source": [
    "y_train.shape, y_test.shape"
   ]
  },
  {
   "cell_type": "markdown",
   "id": "00e9268b-7687-4d5a-a58b-63e21a203840",
   "metadata": {},
   "source": [
    "# Experiment Tracking:"
   ]
  },
  {
   "cell_type": "code",
   "execution_count": 8,
   "id": "8ee57680-5dce-4f81-af31-d94a6c3f2f0e",
   "metadata": {},
   "outputs": [
    {
     "data": {
      "text/plain": [
       "<Experiment: artifact_location='file:///C:/Users/SRA/Desktop/backup/C/MLgrit/time_series_project/uber-taxi-demand/notebooks/c_Model/Experimentation/code/mlruns/961775791195664480', creation_time=1703003324360, experiment_id='961775791195664480', last_update_time=1703003324360, lifecycle_stage='active', name='TimeSeries', tags={}>"
      ]
     },
     "execution_count": 8,
     "metadata": {},
     "output_type": "execute_result"
    }
   ],
   "source": [
    "mlflow.set_experiment(\"TimeSeries\")"
   ]
  },
  {
   "cell_type": "markdown",
   "id": "4723986d-a6fd-4bcd-8778-2cbc38d28cd0",
   "metadata": {},
   "source": [
    "- Model Training and Logging:"
   ]
  },
  {
   "cell_type": "code",
   "execution_count": 9,
   "id": "7690ab48-bf5c-4b10-aa3d-7f1120b917ce",
   "metadata": {},
   "outputs": [],
   "source": [
    "# KNeighborsRegressor?"
   ]
  },
  {
   "cell_type": "markdown",
   "id": "46331198-0115-4a56-aa8e-3e4ed1a421fb",
   "metadata": {},
   "source": [
    "# KNeighborsRegressor"
   ]
  },
  {
   "cell_type": "code",
   "execution_count": 11,
   "id": "02cf2c42-03fa-4c4a-a27d-fdeb2a90c7f7",
   "metadata": {},
   "outputs": [
    {
     "name": "stdout",
     "output_type": "stream",
     "text": [
      "r2_score: 0.8744236311239193\n"
     ]
    }
   ],
   "source": [
    "mlflow.set_experiment(\"TimeSeries\")\n",
    "\n",
    "with mlflow.start_run():\n",
    "    model = KNeighborsRegressor() \n",
    "\n",
    "    param_grid = {\n",
    "        \"n_neighbors\" : [1],\n",
    "        \"weights\": ['uniform', 'distance'], # uniform gives equal or same priority for each vote, distance gives more priority for the closer vote.   \n",
    "        \"algorithm\": ['auto'],\n",
    "        \"leaf_size\": [30],\n",
    "        \"p\": [2],\n",
    "        \"metric\": ['minkowski'],\n",
    "        \"metric_params\": [None],\n",
    "        \"n_jobs\": [None],\n",
    "    }\n",
    "# GridSearchCV Each combination will try.\n",
    "# RandomizedSearchCV Some random combination will try and we use it for huge data processing.\n",
    "    grid = GridSearchCV(\n",
    "        model,\n",
    "        param_grid = param_grid,\n",
    "        scoring=\"neg_mean_squared_error\", \n",
    "        cv=5  # Number of cross-validation folds\n",
    "    )\n",
    "    \n",
    "    grid.fit(X_train, y_train)\n",
    "    \n",
    "    # Log parameters\n",
    "    mlflow.log_params(grid.best_params_)\n",
    "    \n",
    "    # Predict on the test set using the best estimator from the grid search\n",
    "    y_pred = grid.best_estimator_.predict(X_test)\n",
    "\n",
    " # Calculate and log the evaluation metric (e.g., RMSE)\n",
    "    rmse = mean_squared_error(y_test, y_pred, squared=False)\n",
    "    mape = mean_absolute_percentage_error(y_test, y_pred)\n",
    "    mae = mean_absolute_error(y_test, y_pred)\n",
    "    r2 = r2_score(y_test, y_pred)\n",
    "    print(f\"r2_score: {r2}\")\n",
    "    \n",
    "    mlflow.log_metrics({\n",
    "        \"RMSE\": rmse,\n",
    "        \"MAE\": mae,\n",
    "        \"MAPE0\": mape,\n",
    "        \"R2_SCORE\": r2\n",
    "    })\n",
    "    \n",
    "    # Log the best model using MLflow\n",
    "    # mlflow.sklearn.log_model(model, 'knn')"
   ]
  },
  {
   "cell_type": "code",
   "execution_count": 12,
   "id": "9a2a55fd-f757-4789-99a2-1353a9e17371",
   "metadata": {},
   "outputs": [],
   "source": [
    "score = []\n",
    "\n",
    "for i in range(1, 16):\n",
    "    knn = KNeighborsRegressor(n_neighbors=i)\n",
    "    knn.fit(X_train, y_train)\n",
    "    y_pred = knn.predict(X_test)\n",
    "    score.append(r2_score(y_test, y_pred))"
   ]
  },
  {
   "cell_type": "code",
   "execution_count": 13,
   "id": "1c1608f9-9602-45be-b811-c679f488799f",
   "metadata": {},
   "outputs": [
    {
     "data": {
      "image/png": "[encoded data removed]",
      "text/plain": [
       "<Figure size 800x600 with 1 Axes>"
      ]
     },
     "metadata": {},
     "output_type": "display_data"
    }
   ],
   "source": [
    "plt.figure(figsize=(8, 6))\n",
    "plt.plot(range(1, 16), score, marker='o', color=\"green\")  # Plotting n_neighbors vs R2 score\n",
    "plt.title('R2 Score vs Number of Neighbors', weight=\"bold\")\n",
    "plt.xlabel('Number of Neighbors (n_neighbors)')\n",
    "plt.ylabel('R2 Score')\n",
    "plt.grid(True)\n",
    "plt.show()"
   ]
  },
  {
   "cell_type": "code",
   "execution_count": 14,
   "id": "99170936-9a59-45b8-a093-9c102e524bed",
   "metadata": {},
   "outputs": [
    {
     "name": "stdout",
     "output_type": "stream",
     "text": [
      "R2 Score: 0.8091239193083574\n"
     ]
    }
   ],
   "source": [
    "knn = KNeighborsRegressor(n_neighbors=1)  \n",
    "\n",
    "# Initialize BaggingRegressor with KNN as the base estimator\n",
    "bagging_knn = BaggingRegressor(base_estimator=knn, n_estimators=10, random_state=33)\n",
    "\n",
    "# Fit the BaggingRegressor on the training data\n",
    "bagging_knn.fit(X_train, y_train)\n",
    "\n",
    "# Make predictions\n",
    "predictions = bagging_knn.predict(X_test)\n",
    "\n",
    "# Evaluate the performance\n",
    "r2 = r2_score(y_test, predictions)\n",
    "print(f\"R2 Score: {r2}\")\n"
   ]
  },
  {
   "cell_type": "markdown",
   "id": "da2a2c79-0ed0-42dc-a091-406a9498a09a",
   "metadata": {},
   "source": [
    "# ARIMA\n",
    "- Models for ARIMA (Autoregressive integrated moving average)"
   ]
  },
  {
   "cell_type": "code",
   "execution_count": 15,
   "id": "f089b8e6-0ca4-4b99-be57-ba3d746416ec",
   "metadata": {},
   "outputs": [],
   "source": [
    "# ARIMA?"
   ]
  },
  {
   "cell_type": "code",
   "execution_count": 16,
   "id": "3060d2b4-c1a9-4622-b782-22a12a86c69b",
   "metadata": {},
   "outputs": [
    {
     "name": "stderr",
     "output_type": "stream",
     "text": [
      "C:\\Users\\SRA\\Desktop\\backup\\C\\MLgrit\\time_series_project\\timeseriesENV\\lib\\site-packages\\statsmodels\\tsa\\base\\tsa_model.py:473: ValueWarning: An unsupported index was provided and will be ignored when e.g. forecasting.\n",
      "  self._init_dates(dates, freq)\n",
      "C:\\Users\\SRA\\Desktop\\backup\\C\\MLgrit\\time_series_project\\timeseriesENV\\lib\\site-packages\\statsmodels\\tsa\\base\\tsa_model.py:473: ValueWarning: An unsupported index was provided and will be ignored when e.g. forecasting.\n",
      "  self._init_dates(dates, freq)\n",
      "C:\\Users\\SRA\\Desktop\\backup\\C\\MLgrit\\time_series_project\\timeseriesENV\\lib\\site-packages\\statsmodels\\tsa\\base\\tsa_model.py:473: ValueWarning: An unsupported index was provided and will be ignored when e.g. forecasting.\n",
      "  self._init_dates(dates, freq)\n"
     ]
    },
    {
     "name": "stdout",
     "output_type": "stream",
     "text": [
      "r2_score: -0.0019421107976038687\n"
     ]
    },
    {
     "name": "stderr",
     "output_type": "stream",
     "text": [
      "C:\\Users\\SRA\\Desktop\\backup\\C\\MLgrit\\time_series_project\\timeseriesENV\\lib\\site-packages\\statsmodels\\tsa\\base\\tsa_model.py:836: ValueWarning: No supported index is available. Prediction results will be given with an integer index beginning at `start`.\n",
      "  return get_prediction_index(\n"
     ]
    }
   ],
   "source": [
    "mlflow.set_experiment(\"TimeSeries\")\n",
    "\n",
    "with mlflow.start_run():\n",
    "    # Fit ARIMA model with default parameters\n",
    "    model = ARIMA(y_train, order=(12, 1, 2))  # Default ARIMA order\n",
    "    fitted_model = model.fit()\n",
    "\n",
    "    # Make predictions\n",
    "    y_pred = fitted_model.forecast(steps=len(y_test))\n",
    "\n",
    "    # Evaluate model\n",
    "    rmse = mean_squared_error(y_test, y_pred, squared=False)\n",
    "    mae = mean_absolute_error(y_test, y_pred)\n",
    "    r2 = r2_score(y_test, y_pred)\n",
    "    print(f\"r2_score: {r2}\")\n",
    "\n",
    "    # Log parameters\n",
    "    mlflow.log_param(\"order_p\", 12)\n",
    "    mlflow.log_param(\"order_d\", 1)\n",
    "    mlflow.log_param(\"order_q\", 2)\n",
    "\n",
    "    # Log metrics\n",
    "    mlflow.log_metrics({\n",
    "        \"RMSE\": rmse,\n",
    "        \"MAE\": mae,\n",
    "        \"R2_SCORE\": r2\n",
    "    })\n",
    "\n",
    "    # Log the ARIMA model using MLflow\n",
    "    # mlflow.statsmodels.log_model(fitted_model, \"ARIMA_Model\")"
   ]
  },
  {
   "cell_type": "markdown",
   "id": "f8bdeda3-600b-43be-b4ea-78980d165725",
   "metadata": {},
   "source": [
    "# XGBoost"
   ]
  },
  {
   "cell_type": "code",
   "execution_count": 17,
   "id": "82e97a6f-3fc5-4df8-8649-7a3f82eba6b9",
   "metadata": {},
   "outputs": [
    {
     "name": "stdout",
     "output_type": "stream",
     "text": [
      "r2_score: 0.09983543759496727\n"
     ]
    }
   ],
   "source": [
    "mlflow.set_experiment(\"TimeSeries\")\n",
    "\n",
    "with mlflow.start_run():\n",
    "    model = xgb.XGBRFRegressor()\n",
    "\n",
    "    param_grid = {\n",
    "        'objective': ['reg:squarederror'],\n",
    "        'colsample_bytree': [0.3],\n",
    "        'learning_rate': [0.1],\n",
    "        'max_depth': [5],\n",
    "        'alpha': [10],\n",
    "        'n_estimators': [100]\n",
    "    }\n",
    "\n",
    "    gscv = GridSearchCV(\n",
    "        model,\n",
    "        param_grid = param_grid,\n",
    "        scoring = \"neg_mean_squared_error\",\n",
    "        cv = 5\n",
    "    )\n",
    "    gscv.fit(X_train, y_train)\n",
    "    \n",
    "    # Log parameters\n",
    "    mlflow.log_params(gscv.best_params_)\n",
    "    \n",
    "    # Predict on the test set using the best estimator from the grid search\n",
    "    y_pred = gscv.best_estimator_.predict(X_test)\n",
    "\n",
    " # Calculate and log the evaluation metric (e.g., RMSE)\n",
    "    rmse = mean_squared_error(y_test, y_pred, squared=False)\n",
    "    mape = mean_absolute_percentage_error(y_test, y_pred)\n",
    "    mae = mean_absolute_error(y_test, y_pred)\n",
    "    r2 = r2_score(y_test, y_pred)\n",
    "    print(f\"r2_score: {r2}\")\n",
    "    \n",
    "    mlflow.log_metrics({\n",
    "        \"RMSE\": rmse,\n",
    "        \"MAE\": mae,\n",
    "        \"MAPE0\": mape,\n",
    "        \"R2_SCORE\": r2\n",
    "    })\n",
    "    \n",
    "    # Log the best model using MLflow\n",
    "    # mlflow.sklearn.log_model(gscv, 'xgb')"
   ]
  },
  {
   "cell_type": "code",
   "execution_count": null,
   "id": "2a959265-ec48-47e7-86e1-bbc2956590f0",
   "metadata": {},
   "outputs": [],
   "source": []
  }
 ],
 "metadata": {
  "kernelspec": {
   "display_name": "Python 3 (ipykernel)",
   "language": "python",
   "name": "python3"
  },
  "language_info": {
   "codemirror_mode": {
    "name": "ipython",
    "version": 3
   },
   "file_extension": ".py",
   "mimetype": "text/x-python",
   "name": "python",
   "nbconvert_exporter": "python",
   "pygments_lexer": "ipython3",
   "version": "3.10.6"
  }
 },
 "nbformat": 4,
 "nbformat_minor": 5
}
