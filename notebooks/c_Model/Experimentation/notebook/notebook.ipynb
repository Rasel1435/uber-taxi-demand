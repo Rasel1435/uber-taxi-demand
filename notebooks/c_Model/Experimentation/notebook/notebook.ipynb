{
 "cells": [
  {
   "cell_type": "markdown",
   "id": "1cfcd0cb-f502-4bc8-a236-8d3ef63d682c",
   "metadata": {},
   "source": [
    "# Coming"
   ]
  },
  {
   "cell_type": "code",
   "execution_count": null,
   "id": "b3bedba4-284d-40ee-9ec3-5715d0d1b53a",
   "metadata": {},
   "outputs": [],
   "source": [
    "# soon............"
   ]
  }
 ],
 "metadata": {
  "kernelspec": {
   "display_name": "Python 3 (ipykernel)",
   "language": "python",
   "name": "python3"
  },
  "language_info": {
   "codemirror_mode": {
    "name": "ipython",
    "version": 3
   },
   "file_extension": ".py",
   "mimetype": "text/x-python",
   "name": "python",
   "nbconvert_exporter": "python",
   "pygments_lexer": "ipython3",
   "version": "3.10.6"
  }
 },
 "nbformat": 4,
 "nbformat_minor": 5
}
