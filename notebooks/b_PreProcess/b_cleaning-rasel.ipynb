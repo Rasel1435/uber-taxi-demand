{
 "cells": [
  {
   "cell_type": "markdown",
   "id": "35f93e94-db37-4111-b7c8-3706ccedb122",
   "metadata": {},
   "source": [
    "# Import Necessary Libraries"
   ]
  },
  {
   "cell_type": "code",
   "execution_count": 183,
   "id": "b85bf045-cf30-434c-a68c-d451ddf5f4cc",
   "metadata": {},
   "outputs": [],
   "source": [
    "import numpy as np\n",
    "import pandas as pd\n",
    "import matplotlib.pyplot as plt\n",
    "import seaborn as sns\n",
    "\n",
    "%matplotlib inline"
   ]
  },
  {
   "cell_type": "markdown",
   "id": "4c5eca64-8a6d-44f5-8b3e-96d348606dc3",
   "metadata": {},
   "source": [
    "# Data Loading"
   ]
  },
  {
   "cell_type": "code",
   "execution_count": 184,
   "id": "49894603-16ba-4ec4-ae27-1e36b2c9aa0b",
   "metadata": {},
   "outputs": [
    {
     "data": {
      "text/html": [
       "<div>\n",
       "<style scoped>\n",
       "    .dataframe tbody tr th:only-of-type {\n",
       "        vertical-align: middle;\n",
       "    }\n",
       "\n",
       "    .dataframe tbody tr th {\n",
       "        vertical-align: top;\n",
       "    }\n",
       "\n",
       "    .dataframe thead th {\n",
       "        text-align: right;\n",
       "    }\n",
       "</style>\n",
       "<table border=\"1\" class=\"dataframe\">\n",
       "  <thead>\n",
       "    <tr style=\"text-align: right;\">\n",
       "      <th></th>\n",
       "      <th>tpep_pickup_datetime</th>\n",
       "      <th>passenger_demand</th>\n",
       "      <th>taxi_demand</th>\n",
       "    </tr>\n",
       "  </thead>\n",
       "  <tbody>\n",
       "    <tr>\n",
       "      <th>0</th>\n",
       "      <td>2022-03-31 15:00:00</td>\n",
       "      <td>4</td>\n",
       "      <td>4</td>\n",
       "    </tr>\n",
       "    <tr>\n",
       "      <th>1</th>\n",
       "      <td>2022-03-31 16:00:00</td>\n",
       "      <td>3</td>\n",
       "      <td>3</td>\n",
       "    </tr>\n",
       "    <tr>\n",
       "      <th>2</th>\n",
       "      <td>2022-03-31 17:00:00</td>\n",
       "      <td>0</td>\n",
       "      <td>0</td>\n",
       "    </tr>\n",
       "    <tr>\n",
       "      <th>3</th>\n",
       "      <td>2022-03-31 18:00:00</td>\n",
       "      <td>0</td>\n",
       "      <td>0</td>\n",
       "    </tr>\n",
       "    <tr>\n",
       "      <th>4</th>\n",
       "      <td>2022-03-31 19:00:00</td>\n",
       "      <td>0</td>\n",
       "      <td>0</td>\n",
       "    </tr>\n",
       "  </tbody>\n",
       "</table>\n",
       "</div>"
      ],
      "text/plain": [
       "  tpep_pickup_datetime  passenger_demand  taxi_demand\n",
       "0  2022-03-31 15:00:00                 4            4\n",
       "1  2022-03-31 16:00:00                 3            3\n",
       "2  2022-03-31 17:00:00                 0            0\n",
       "3  2022-03-31 18:00:00                 0            0\n",
       "4  2022-03-31 19:00:00                 0            0"
      ]
     },
     "execution_count": 184,
     "metadata": {},
     "output_type": "execute_result"
    }
   ],
   "source": [
    "data = pd.read_csv(\"C:/Users/SRA/Desktop/backup/C/MLgrit/time_series_project/data/2022.csv\")\n",
    "data.head()"
   ]
  },
  {
   "cell_type": "code",
   "execution_count": 185,
   "id": "9a861073-15db-4cae-a1af-aae0a5f5d515",
   "metadata": {},
   "outputs": [
    {
     "data": {
      "text/html": [
       "<div>\n",
       "<style scoped>\n",
       "    .dataframe tbody tr th:only-of-type {\n",
       "        vertical-align: middle;\n",
       "    }\n",
       "\n",
       "    .dataframe tbody tr th {\n",
       "        vertical-align: top;\n",
       "    }\n",
       "\n",
       "    .dataframe thead th {\n",
       "        text-align: right;\n",
       "    }\n",
       "</style>\n",
       "<table border=\"1\" class=\"dataframe\">\n",
       "  <thead>\n",
       "    <tr style=\"text-align: right;\">\n",
       "      <th></th>\n",
       "      <th>tpep_pickup_datetime</th>\n",
       "      <th>passenger_demand</th>\n",
       "      <th>taxi_demand</th>\n",
       "    </tr>\n",
       "  </thead>\n",
       "  <tbody>\n",
       "    <tr>\n",
       "      <th>21619</th>\n",
       "      <td>2022-09-30 19:00:00</td>\n",
       "      <td>12107</td>\n",
       "      <td>8576</td>\n",
       "    </tr>\n",
       "    <tr>\n",
       "      <th>21620</th>\n",
       "      <td>2022-09-30 20:00:00</td>\n",
       "      <td>9959</td>\n",
       "      <td>6905</td>\n",
       "    </tr>\n",
       "    <tr>\n",
       "      <th>21621</th>\n",
       "      <td>2022-09-30 21:00:00</td>\n",
       "      <td>10046</td>\n",
       "      <td>6894</td>\n",
       "    </tr>\n",
       "    <tr>\n",
       "      <th>21622</th>\n",
       "      <td>2022-09-30 22:00:00</td>\n",
       "      <td>10244</td>\n",
       "      <td>6999</td>\n",
       "    </tr>\n",
       "    <tr>\n",
       "      <th>21623</th>\n",
       "      <td>2022-09-30 23:00:00</td>\n",
       "      <td>9633</td>\n",
       "      <td>6547</td>\n",
       "    </tr>\n",
       "  </tbody>\n",
       "</table>\n",
       "</div>"
      ],
      "text/plain": [
       "      tpep_pickup_datetime  passenger_demand  taxi_demand\n",
       "21619  2022-09-30 19:00:00             12107         8576\n",
       "21620  2022-09-30 20:00:00              9959         6905\n",
       "21621  2022-09-30 21:00:00             10046         6894\n",
       "21622  2022-09-30 22:00:00             10244         6999\n",
       "21623  2022-09-30 23:00:00              9633         6547"
      ]
     },
     "execution_count": 185,
     "metadata": {},
     "output_type": "execute_result"
    }
   ],
   "source": [
    "data.tail()"
   ]
  },
  {
   "cell_type": "code",
   "execution_count": 186,
   "id": "69bd8494-5ee0-4aad-b914-fcfe855143ca",
   "metadata": {},
   "outputs": [
    {
     "data": {
      "text/plain": [
       "(21624, 3)"
      ]
     },
     "execution_count": 186,
     "metadata": {},
     "output_type": "execute_result"
    }
   ],
   "source": [
    "data.shape"
   ]
  },
  {
   "cell_type": "code",
   "execution_count": 187,
   "id": "4384c52d-cedb-41f8-b6cd-7e298a9eb88b",
   "metadata": {},
   "outputs": [
    {
     "name": "stdout",
     "output_type": "stream",
     "text": [
      "<class 'pandas.core.frame.DataFrame'>\n",
      "RangeIndex: 21624 entries, 0 to 21623\n",
      "Data columns (total 3 columns):\n",
      " #   Column                Non-Null Count  Dtype \n",
      "---  ------                --------------  ----- \n",
      " 0   tpep_pickup_datetime  21624 non-null  object\n",
      " 1   passenger_demand      21624 non-null  int64 \n",
      " 2   taxi_demand           21624 non-null  int64 \n",
      "dtypes: int64(2), object(1)\n",
      "memory usage: 506.9+ KB\n"
     ]
    }
   ],
   "source": [
    "data.info()"
   ]
  },
  {
   "cell_type": "code",
   "execution_count": 188,
   "id": "0e0d3d0b-dcc1-43af-88de-195563c37351",
   "metadata": {},
   "outputs": [],
   "source": [
    "df = data.copy()"
   ]
  },
  {
   "cell_type": "code",
   "execution_count": 189,
   "id": "de5bd22d-7ad9-4422-a7e1-871527f08c40",
   "metadata": {},
   "outputs": [],
   "source": [
    "###\n",
    "df['timestamp'] = pd.to_datetime(df.tpep_pickup_datetime)"
   ]
  },
  {
   "cell_type": "code",
   "execution_count": 190,
   "id": "76826635-65ad-4191-b2b5-0ef98026ee59",
   "metadata": {},
   "outputs": [
    {
     "name": "stdout",
     "output_type": "stream",
     "text": [
      "<class 'pandas.core.frame.DataFrame'>\n",
      "RangeIndex: 21624 entries, 0 to 21623\n",
      "Data columns (total 4 columns):\n",
      " #   Column                Non-Null Count  Dtype         \n",
      "---  ------                --------------  -----         \n",
      " 0   tpep_pickup_datetime  21624 non-null  object        \n",
      " 1   passenger_demand      21624 non-null  int64         \n",
      " 2   taxi_demand           21624 non-null  int64         \n",
      " 3   timestamp             21624 non-null  datetime64[ns]\n",
      "dtypes: datetime64[ns](1), int64(2), object(1)\n",
      "memory usage: 675.9+ KB\n"
     ]
    }
   ],
   "source": [
    "df.info()"
   ]
  },
  {
   "cell_type": "code",
   "execution_count": 191,
   "id": "3dbf14aa-ac0d-4f70-bd6b-179042533e94",
   "metadata": {},
   "outputs": [],
   "source": [
    "###\n",
    "df.drop(columns=['tpep_pickup_datetime'], inplace= True)"
   ]
  },
  {
   "cell_type": "code",
   "execution_count": 192,
   "id": "eaa7b862-6af1-42e0-a160-d840f37cc6dc",
   "metadata": {},
   "outputs": [
    {
     "data": {
      "text/html": [
       "<div>\n",
       "<style scoped>\n",
       "    .dataframe tbody tr th:only-of-type {\n",
       "        vertical-align: middle;\n",
       "    }\n",
       "\n",
       "    .dataframe tbody tr th {\n",
       "        vertical-align: top;\n",
       "    }\n",
       "\n",
       "    .dataframe thead th {\n",
       "        text-align: right;\n",
       "    }\n",
       "</style>\n",
       "<table border=\"1\" class=\"dataframe\">\n",
       "  <thead>\n",
       "    <tr style=\"text-align: right;\">\n",
       "      <th></th>\n",
       "      <th>passenger_demand</th>\n",
       "      <th>taxi_demand</th>\n",
       "      <th>timestamp</th>\n",
       "    </tr>\n",
       "  </thead>\n",
       "  <tbody>\n",
       "    <tr>\n",
       "      <th>0</th>\n",
       "      <td>4</td>\n",
       "      <td>4</td>\n",
       "      <td>2022-03-31 15:00:00</td>\n",
       "    </tr>\n",
       "    <tr>\n",
       "      <th>1</th>\n",
       "      <td>3</td>\n",
       "      <td>3</td>\n",
       "      <td>2022-03-31 16:00:00</td>\n",
       "    </tr>\n",
       "    <tr>\n",
       "      <th>2</th>\n",
       "      <td>0</td>\n",
       "      <td>0</td>\n",
       "      <td>2022-03-31 17:00:00</td>\n",
       "    </tr>\n",
       "    <tr>\n",
       "      <th>3</th>\n",
       "      <td>0</td>\n",
       "      <td>0</td>\n",
       "      <td>2022-03-31 18:00:00</td>\n",
       "    </tr>\n",
       "    <tr>\n",
       "      <th>4</th>\n",
       "      <td>0</td>\n",
       "      <td>0</td>\n",
       "      <td>2022-03-31 19:00:00</td>\n",
       "    </tr>\n",
       "    <tr>\n",
       "      <th>...</th>\n",
       "      <td>...</td>\n",
       "      <td>...</td>\n",
       "      <td>...</td>\n",
       "    </tr>\n",
       "    <tr>\n",
       "      <th>21619</th>\n",
       "      <td>12107</td>\n",
       "      <td>8576</td>\n",
       "      <td>2022-09-30 19:00:00</td>\n",
       "    </tr>\n",
       "    <tr>\n",
       "      <th>21620</th>\n",
       "      <td>9959</td>\n",
       "      <td>6905</td>\n",
       "      <td>2022-09-30 20:00:00</td>\n",
       "    </tr>\n",
       "    <tr>\n",
       "      <th>21621</th>\n",
       "      <td>10046</td>\n",
       "      <td>6894</td>\n",
       "      <td>2022-09-30 21:00:00</td>\n",
       "    </tr>\n",
       "    <tr>\n",
       "      <th>21622</th>\n",
       "      <td>10244</td>\n",
       "      <td>6999</td>\n",
       "      <td>2022-09-30 22:00:00</td>\n",
       "    </tr>\n",
       "    <tr>\n",
       "      <th>21623</th>\n",
       "      <td>9633</td>\n",
       "      <td>6547</td>\n",
       "      <td>2022-09-30 23:00:00</td>\n",
       "    </tr>\n",
       "  </tbody>\n",
       "</table>\n",
       "<p>21624 rows × 3 columns</p>\n",
       "</div>"
      ],
      "text/plain": [
       "       passenger_demand  taxi_demand           timestamp\n",
       "0                     4            4 2022-03-31 15:00:00\n",
       "1                     3            3 2022-03-31 16:00:00\n",
       "2                     0            0 2022-03-31 17:00:00\n",
       "3                     0            0 2022-03-31 18:00:00\n",
       "4                     0            0 2022-03-31 19:00:00\n",
       "...                 ...          ...                 ...\n",
       "21619             12107         8576 2022-09-30 19:00:00\n",
       "21620              9959         6905 2022-09-30 20:00:00\n",
       "21621             10046         6894 2022-09-30 21:00:00\n",
       "21622             10244         6999 2022-09-30 22:00:00\n",
       "21623              9633         6547 2022-09-30 23:00:00\n",
       "\n",
       "[21624 rows x 3 columns]"
      ]
     },
     "execution_count": 192,
     "metadata": {},
     "output_type": "execute_result"
    }
   ],
   "source": [
    "df"
   ]
  },
  {
   "cell_type": "markdown",
   "id": "ac4ed565-2d00-459f-b86d-1579843874ab",
   "metadata": {},
   "source": [
    "# Checking Duplicates"
   ]
  },
  {
   "cell_type": "code",
   "execution_count": 193,
   "id": "6f7e994f-8e06-4bb9-8e3a-f7279e66c432",
   "metadata": {},
   "outputs": [
    {
     "name": "stdout",
     "output_type": "stream",
     "text": [
      "False    11343\n",
      "True     10281\n",
      "Name: count, dtype: int64\n"
     ]
    }
   ],
   "source": [
    "# Check for duplicate values\n",
    "value_counts  = df.duplicated(subset='timestamp').value_counts()\n",
    "print(value_counts )"
   ]
  },
  {
   "cell_type": "markdown",
   "id": "c282be03-06f6-4ba3-9362-3fe02c9153a4",
   "metadata": {},
   "source": [
    "### As we can see there is 10281 duplicates values we have to remove it"
   ]
  },
  {
   "cell_type": "markdown",
   "id": "9300d33c-543c-4467-8f17-7699ef227443",
   "metadata": {},
   "source": [
    "# Dropping Duplicates"
   ]
  },
  {
   "cell_type": "code",
   "execution_count": 194,
   "id": "5f83aa26-c2e7-4c60-b429-b0c3cef0cdda",
   "metadata": {},
   "outputs": [],
   "source": [
    "###\n",
    "df.drop_duplicates(subset= ['timestamp'], inplace=True)"
   ]
  },
  {
   "cell_type": "code",
   "execution_count": 195,
   "id": "0c3b7e91-dd6f-4957-8728-23218c0612d3",
   "metadata": {},
   "outputs": [
    {
     "data": {
      "text/plain": [
       "0"
      ]
     },
     "execution_count": 195,
     "metadata": {},
     "output_type": "execute_result"
    }
   ],
   "source": [
    "df.duplicated().sum()"
   ]
  },
  {
   "cell_type": "code",
   "execution_count": 196,
   "id": "131ad0f3-c1d2-4441-9f69-5baa74a14f7a",
   "metadata": {},
   "outputs": [
    {
     "data": {
      "text/plain": [
       "(11343, 3)"
      ]
     },
     "execution_count": 196,
     "metadata": {},
     "output_type": "execute_result"
    }
   ],
   "source": [
    "df.shape"
   ]
  },
  {
   "cell_type": "code",
   "execution_count": 197,
   "id": "196fbfca-b9a1-43a6-9576-f7b7c0a38c25",
   "metadata": {},
   "outputs": [
    {
     "data": {
      "text/html": [
       "<div>\n",
       "<style scoped>\n",
       "    .dataframe tbody tr th:only-of-type {\n",
       "        vertical-align: middle;\n",
       "    }\n",
       "\n",
       "    .dataframe tbody tr th {\n",
       "        vertical-align: top;\n",
       "    }\n",
       "\n",
       "    .dataframe thead th {\n",
       "        text-align: right;\n",
       "    }\n",
       "</style>\n",
       "<table border=\"1\" class=\"dataframe\">\n",
       "  <thead>\n",
       "    <tr style=\"text-align: right;\">\n",
       "      <th></th>\n",
       "      <th>passenger_demand</th>\n",
       "      <th>taxi_demand</th>\n",
       "      <th>timestamp</th>\n",
       "    </tr>\n",
       "  </thead>\n",
       "  <tbody>\n",
       "    <tr>\n",
       "      <th>0</th>\n",
       "      <td>4</td>\n",
       "      <td>4</td>\n",
       "      <td>2022-03-31 15:00:00</td>\n",
       "    </tr>\n",
       "    <tr>\n",
       "      <th>1</th>\n",
       "      <td>3</td>\n",
       "      <td>3</td>\n",
       "      <td>2022-03-31 16:00:00</td>\n",
       "    </tr>\n",
       "    <tr>\n",
       "      <th>2</th>\n",
       "      <td>0</td>\n",
       "      <td>0</td>\n",
       "      <td>2022-03-31 17:00:00</td>\n",
       "    </tr>\n",
       "    <tr>\n",
       "      <th>3</th>\n",
       "      <td>0</td>\n",
       "      <td>0</td>\n",
       "      <td>2022-03-31 18:00:00</td>\n",
       "    </tr>\n",
       "    <tr>\n",
       "      <th>4</th>\n",
       "      <td>0</td>\n",
       "      <td>0</td>\n",
       "      <td>2022-03-31 19:00:00</td>\n",
       "    </tr>\n",
       "    <tr>\n",
       "      <th>...</th>\n",
       "      <td>...</td>\n",
       "      <td>...</td>\n",
       "      <td>...</td>\n",
       "    </tr>\n",
       "    <tr>\n",
       "      <th>19363</th>\n",
       "      <td>8489</td>\n",
       "      <td>6242</td>\n",
       "      <td>2022-05-31 11:00:00</td>\n",
       "    </tr>\n",
       "    <tr>\n",
       "      <th>19364</th>\n",
       "      <td>8714</td>\n",
       "      <td>6444</td>\n",
       "      <td>2022-05-31 12:00:00</td>\n",
       "    </tr>\n",
       "    <tr>\n",
       "      <th>19365</th>\n",
       "      <td>9389</td>\n",
       "      <td>6915</td>\n",
       "      <td>2022-05-31 13:00:00</td>\n",
       "    </tr>\n",
       "    <tr>\n",
       "      <th>19366</th>\n",
       "      <td>9997</td>\n",
       "      <td>7296</td>\n",
       "      <td>2022-05-31 14:00:00</td>\n",
       "    </tr>\n",
       "    <tr>\n",
       "      <th>19367</th>\n",
       "      <td>10589</td>\n",
       "      <td>7618</td>\n",
       "      <td>2022-05-31 15:00:00</td>\n",
       "    </tr>\n",
       "  </tbody>\n",
       "</table>\n",
       "<p>8737 rows × 3 columns</p>\n",
       "</div>"
      ],
      "text/plain": [
       "       passenger_demand  taxi_demand           timestamp\n",
       "0                     4            4 2022-03-31 15:00:00\n",
       "1                     3            3 2022-03-31 16:00:00\n",
       "2                     0            0 2022-03-31 17:00:00\n",
       "3                     0            0 2022-03-31 18:00:00\n",
       "4                     0            0 2022-03-31 19:00:00\n",
       "...                 ...          ...                 ...\n",
       "19363              8489         6242 2022-05-31 11:00:00\n",
       "19364              8714         6444 2022-05-31 12:00:00\n",
       "19365              9389         6915 2022-05-31 13:00:00\n",
       "19366              9997         7296 2022-05-31 14:00:00\n",
       "19367             10589         7618 2022-05-31 15:00:00\n",
       "\n",
       "[8737 rows x 3 columns]"
      ]
     },
     "execution_count": 197,
     "metadata": {},
     "output_type": "execute_result"
    }
   ],
   "source": [
    "###\n",
    "df = df[~(df.timestamp > pd.Timestamp('2022-12-31 00:00:00'))]\n",
    "df"
   ]
  },
  {
   "cell_type": "markdown",
   "id": "dc004f6b-1b73-45a1-88ac-f4c07a9b11a8",
   "metadata": {},
   "source": [
    "# Handling Missing Values\n",
    "- Detect\n",
    "- Remove or Drop\n",
    "- Filtering\n",
    "- if the data is categorical then we have to use \"Mode\"\n",
    "- if data is numerical, we have to use \"mean\", and \"median\"."
   ]
  },
  {
   "cell_type": "markdown",
   "id": "2b0f0945-5fe0-4692-81d2-978cb7b051a3",
   "metadata": {},
   "source": [
    "# Detect Missing values"
   ]
  },
  {
   "cell_type": "code",
   "execution_count": 198,
   "id": "9014a07a-fc9e-46e7-b285-f93bb8e7d5a9",
   "metadata": {},
   "outputs": [
    {
     "data": {
      "text/html": [
       "<div>\n",
       "<style scoped>\n",
       "    .dataframe tbody tr th:only-of-type {\n",
       "        vertical-align: middle;\n",
       "    }\n",
       "\n",
       "    .dataframe tbody tr th {\n",
       "        vertical-align: top;\n",
       "    }\n",
       "\n",
       "    .dataframe thead th {\n",
       "        text-align: right;\n",
       "    }\n",
       "</style>\n",
       "<table border=\"1\" class=\"dataframe\">\n",
       "  <thead>\n",
       "    <tr style=\"text-align: right;\">\n",
       "      <th></th>\n",
       "      <th>passenger_demand</th>\n",
       "      <th>taxi_demand</th>\n",
       "      <th>timestamp</th>\n",
       "    </tr>\n",
       "  </thead>\n",
       "  <tbody>\n",
       "    <tr>\n",
       "      <th>0</th>\n",
       "      <td>False</td>\n",
       "      <td>False</td>\n",
       "      <td>False</td>\n",
       "    </tr>\n",
       "    <tr>\n",
       "      <th>1</th>\n",
       "      <td>False</td>\n",
       "      <td>False</td>\n",
       "      <td>False</td>\n",
       "    </tr>\n",
       "    <tr>\n",
       "      <th>2</th>\n",
       "      <td>False</td>\n",
       "      <td>False</td>\n",
       "      <td>False</td>\n",
       "    </tr>\n",
       "    <tr>\n",
       "      <th>3</th>\n",
       "      <td>False</td>\n",
       "      <td>False</td>\n",
       "      <td>False</td>\n",
       "    </tr>\n",
       "    <tr>\n",
       "      <th>4</th>\n",
       "      <td>False</td>\n",
       "      <td>False</td>\n",
       "      <td>False</td>\n",
       "    </tr>\n",
       "    <tr>\n",
       "      <th>...</th>\n",
       "      <td>...</td>\n",
       "      <td>...</td>\n",
       "      <td>...</td>\n",
       "    </tr>\n",
       "    <tr>\n",
       "      <th>19363</th>\n",
       "      <td>False</td>\n",
       "      <td>False</td>\n",
       "      <td>False</td>\n",
       "    </tr>\n",
       "    <tr>\n",
       "      <th>19364</th>\n",
       "      <td>False</td>\n",
       "      <td>False</td>\n",
       "      <td>False</td>\n",
       "    </tr>\n",
       "    <tr>\n",
       "      <th>19365</th>\n",
       "      <td>False</td>\n",
       "      <td>False</td>\n",
       "      <td>False</td>\n",
       "    </tr>\n",
       "    <tr>\n",
       "      <th>19366</th>\n",
       "      <td>False</td>\n",
       "      <td>False</td>\n",
       "      <td>False</td>\n",
       "    </tr>\n",
       "    <tr>\n",
       "      <th>19367</th>\n",
       "      <td>False</td>\n",
       "      <td>False</td>\n",
       "      <td>False</td>\n",
       "    </tr>\n",
       "  </tbody>\n",
       "</table>\n",
       "<p>8737 rows × 3 columns</p>\n",
       "</div>"
      ],
      "text/plain": [
       "       passenger_demand  taxi_demand  timestamp\n",
       "0                 False        False      False\n",
       "1                 False        False      False\n",
       "2                 False        False      False\n",
       "3                 False        False      False\n",
       "4                 False        False      False\n",
       "...                 ...          ...        ...\n",
       "19363             False        False      False\n",
       "19364             False        False      False\n",
       "19365             False        False      False\n",
       "19366             False        False      False\n",
       "19367             False        False      False\n",
       "\n",
       "[8737 rows x 3 columns]"
      ]
     },
     "execution_count": 198,
     "metadata": {},
     "output_type": "execute_result"
    }
   ],
   "source": [
    "df.isnull()"
   ]
  },
  {
   "cell_type": "code",
   "execution_count": 199,
   "id": "a8c201dd-e9db-4a7d-a31c-d7f55e7cb588",
   "metadata": {},
   "outputs": [
    {
     "data": {
      "text/plain": [
       "passenger_demand    0\n",
       "taxi_demand         0\n",
       "timestamp           0\n",
       "dtype: int64"
      ]
     },
     "execution_count": 199,
     "metadata": {},
     "output_type": "execute_result"
    }
   ],
   "source": [
    "df.isnull().sum()"
   ]
  },
  {
   "cell_type": "code",
   "execution_count": 200,
   "id": "129615f1-2a3b-4e51-958d-65e529874170",
   "metadata": {},
   "outputs": [
    {
     "data": {
      "text/plain": [
       "0    3\n",
       "Name: count, dtype: int64"
      ]
     },
     "execution_count": 200,
     "metadata": {},
     "output_type": "execute_result"
    }
   ],
   "source": [
    "df.isnull().sum().value_counts()"
   ]
  },
  {
   "cell_type": "code",
   "execution_count": 201,
   "id": "383d644d-7c61-42cc-addf-b802820e259c",
   "metadata": {},
   "outputs": [
    {
     "data": {
      "text/plain": [
       "0        0\n",
       "1        0\n",
       "2        0\n",
       "3        0\n",
       "4        0\n",
       "        ..\n",
       "19363    0\n",
       "19364    0\n",
       "19365    0\n",
       "19366    0\n",
       "19367    0\n",
       "Length: 8737, dtype: int64"
      ]
     },
     "execution_count": 201,
     "metadata": {},
     "output_type": "execute_result"
    }
   ],
   "source": [
    "df.isnull().sum(axis=1)"
   ]
  },
  {
   "cell_type": "code",
   "execution_count": 202,
   "id": "70184375-afcb-4708-a7b7-aff2369aa9cf",
   "metadata": {},
   "outputs": [
    {
     "data": {
      "text/plain": [
       "0    8737\n",
       "Name: count, dtype: int64"
      ]
     },
     "execution_count": 202,
     "metadata": {},
     "output_type": "execute_result"
    }
   ],
   "source": [
    "df.isnull().sum(axis=1).value_counts()"
   ]
  },
  {
   "cell_type": "markdown",
   "id": "434a36b9-7e01-4007-8477-3acd82c77936",
   "metadata": {},
   "source": [
    "### There is no Missing Value"
   ]
  },
  {
   "cell_type": "markdown",
   "id": "aef5b7c0-2b00-479d-9c5b-2be6ce71fb1c",
   "metadata": {},
   "source": [
    "# Detect Outliers"
   ]
  },
  {
   "cell_type": "code",
   "execution_count": 203,
   "id": "8f6d506f-afdd-46d2-9081-ce614330a673",
   "metadata": {},
   "outputs": [
    {
     "data": {
      "image/png": "[encoded data removed]",
      "text/plain": [
       "<Figure size 1000x600 with 1 Axes>"
      ]
     },
     "metadata": {},
     "output_type": "display_data"
    }
   ],
   "source": [
    "plt.figure(figsize=(10, 6))\n",
    "sns.boxplot(data=df, orient=\"h\", palette=\"Set2\")  # orient=\"h\" for horizontal boxplots\n",
    "plt.title('Boxplot of Multiple Columns Detect Outliers', color='green', weight= 'bold')\n",
    "plt.xlabel('Values')\n",
    "plt.show()"
   ]
  },
  {
   "cell_type": "code",
   "execution_count": 204,
   "id": "3f9b0a5e-6398-43a7-bead-f52aa96a5459",
   "metadata": {},
   "outputs": [
    {
     "data": {
      "image/png": "[encoded data removed]",
      "text/plain": [
       "<Figure size 1000x600 with 1 Axes>"
      ]
     },
     "metadata": {},
     "output_type": "display_data"
    }
   ],
   "source": [
    "plt.figure(figsize=(10, 6))\n",
    "sns.violinplot(data=df, orient=\"h\", palette=\"Set2\")  # orient=\"h\" for horizontal boxplots\n",
    "plt.title('Violinplot of Multiple Columns Detect Outliers', color=\"green\", weight= 'bold')\n",
    "plt.xlabel('Values')\n",
    "plt.show()"
   ]
  },
  {
   "cell_type": "code",
   "execution_count": 205,
   "id": "4fa34827-13c0-423c-96fb-74add3b99caa",
   "metadata": {},
   "outputs": [],
   "source": [
    "# sns.boxplot(data = data, x = \"passenger_demand\")"
   ]
  },
  {
   "cell_type": "code",
   "execution_count": 206,
   "id": "be8cd2e0-e95f-4af2-8d76-66f3b675e626",
   "metadata": {},
   "outputs": [],
   "source": [
    "# sns.violinplot(data = data, x = \"passenger_demand\")"
   ]
  },
  {
   "cell_type": "code",
   "execution_count": 207,
   "id": "23f275aa-2bc0-4004-86da-db93818f4b88",
   "metadata": {},
   "outputs": [],
   "source": [
    "# sns.boxplot(data = data, x = \"taxi_demand\")"
   ]
  },
  {
   "cell_type": "code",
   "execution_count": 208,
   "id": "6637bb1d-c0c0-4adc-92c8-b0c414621237",
   "metadata": {},
   "outputs": [],
   "source": [
    "# sns.violinplot(data = data, x = \"taxi_demand\")"
   ]
  },
  {
   "cell_type": "markdown",
   "id": "39a10066-e01c-47c5-8667-a87c21363835",
   "metadata": {},
   "source": [
    "### There is no outliers in \"VendorID\" and \"passenger_count\""
   ]
  },
  {
   "cell_type": "markdown",
   "id": "eaf47829-9d10-450c-9f89-5adfc4b7aa7b",
   "metadata": {},
   "source": [
    "# Save Clean Data"
   ]
  },
  {
   "cell_type": "code",
   "execution_count": 215,
   "id": "2b02a87b-c421-45b0-a07c-f36511325d69",
   "metadata": {},
   "outputs": [],
   "source": [
    "df.to_parquet(r\"C:/Users/SRA/Desktop/backup/C/MLgrit/time_series_project/data/2022/V2_Clean_Data.parquet\", index=False)"
   ]
  },
  {
   "cell_type": "markdown",
   "id": "c5e04a41-2243-40f0-9942-bc812b112565",
   "metadata": {},
   "source": [
    "# Fixing Syntax Error"
   ]
  },
  {
   "cell_type": "code",
   "execution_count": null,
   "id": "2bcee07a-c5c9-4b88-9274-15b66140365c",
   "metadata": {},
   "outputs": [],
   "source": []
  },
  {
   "cell_type": "code",
   "execution_count": null,
   "id": "f0a07197-625b-4a0b-b3a5-a7472ac1de6e",
   "metadata": {},
   "outputs": [],
   "source": []
  },
  {
   "cell_type": "code",
   "execution_count": null,
   "id": "e596445e-ab96-4c09-862f-54edf579d331",
   "metadata": {},
   "outputs": [],
   "source": []
  },
  {
   "cell_type": "code",
   "execution_count": null,
   "id": "7a988d93-52b4-49f9-813f-52913631f26f",
   "metadata": {},
   "outputs": [],
   "source": []
  }
 ],
 "metadata": {
  "kernelspec": {
   "display_name": "Python 3 (ipykernel)",
   "language": "python",
   "name": "python3"
  },
  "language_info": {
   "codemirror_mode": {
    "name": "ipython",
    "version": 3
   },
   "file_extension": ".py",
   "mimetype": "text/x-python",
   "name": "python",
   "nbconvert_exporter": "python",
   "pygments_lexer": "ipython3",
   "version": "3.10.6"
  }
 },
 "nbformat": 4,
 "nbformat_minor": 5
}
