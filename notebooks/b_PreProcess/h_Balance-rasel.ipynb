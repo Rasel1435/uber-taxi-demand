{
 "cells": [
  {
   "cell_type": "code",
   "execution_count": 2,
   "id": "88b7171f-7fbb-4c49-bf56-4f860cc7e2c7",
   "metadata": {},
   "outputs": [],
   "source": [
    "# h_Balance"
   ]
  }
 ],
 "metadata": {
  "kernelspec": {
   "display_name": "Python 3 (ipykernel)",
   "language": "python",
   "name": "python3"
  },
  "language_info": {
   "codemirror_mode": {
    "name": "ipython",
    "version": 3
   },
   "file_extension": ".py",
   "mimetype": "text/x-python",
   "name": "python",
   "nbconvert_exporter": "python",
   "pygments_lexer": "ipython3",
   "version": "3.10.6"
  }
 },
 "nbformat": 4,
 "nbformat_minor": 5
}
