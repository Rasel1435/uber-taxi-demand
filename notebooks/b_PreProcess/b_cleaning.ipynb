{
 "cells": [
  {
   "cell_type": "markdown",
   "id": "35f93e94-db37-4111-b7c8-3706ccedb122",
   "metadata": {},
   "source": [
    "# Import Necessary Libraries"
   ]
  },
  {
   "cell_type": "code",
   "execution_count": 1,
   "id": "b85bf045-cf30-434c-a68c-d451ddf5f4cc",
   "metadata": {},
   "outputs": [],
   "source": [
    "import pandas as pd\n",
    "import numpy as np\n",
    "import seaborn as sns"
   ]
  },
  {
   "cell_type": "markdown",
   "id": "4c5eca64-8a6d-44f5-8b3e-96d348606dc3",
   "metadata": {},
   "source": [
    "# Data Loading"
   ]
  },
  {
   "cell_type": "code",
   "execution_count": 2,
   "id": "49894603-16ba-4ec4-ae27-1e36b2c9aa0b",
   "metadata": {},
   "outputs": [
    {
     "data": {
      "text/html": [
       "<div>\n",
       "<style scoped>\n",
       "    .dataframe tbody tr th:only-of-type {\n",
       "        vertical-align: middle;\n",
       "    }\n",
       "\n",
       "    .dataframe tbody tr th {\n",
       "        vertical-align: top;\n",
       "    }\n",
       "\n",
       "    .dataframe thead th {\n",
       "        text-align: right;\n",
       "    }\n",
       "</style>\n",
       "<table border=\"1\" class=\"dataframe\">\n",
       "  <thead>\n",
       "    <tr style=\"text-align: right;\">\n",
       "      <th></th>\n",
       "      <th>tpep_pickup_datetime</th>\n",
       "      <th>passenger_count</th>\n",
       "      <th>VendorID</th>\n",
       "    </tr>\n",
       "  </thead>\n",
       "  <tbody>\n",
       "    <tr>\n",
       "      <th>0</th>\n",
       "      <td>2022-01-01 00:00:00</td>\n",
       "      <td>6838</td>\n",
       "      <td>4261</td>\n",
       "    </tr>\n",
       "    <tr>\n",
       "      <th>1</th>\n",
       "      <td>2022-01-01 01:00:00</td>\n",
       "      <td>7738</td>\n",
       "      <td>4997</td>\n",
       "    </tr>\n",
       "    <tr>\n",
       "      <th>2</th>\n",
       "      <td>2022-01-01 02:00:00</td>\n",
       "      <td>5974</td>\n",
       "      <td>3901</td>\n",
       "    </tr>\n",
       "    <tr>\n",
       "      <th>3</th>\n",
       "      <td>2022-01-01 03:00:00</td>\n",
       "      <td>4107</td>\n",
       "      <td>2686</td>\n",
       "    </tr>\n",
       "    <tr>\n",
       "      <th>4</th>\n",
       "      <td>2022-01-01 04:00:00</td>\n",
       "      <td>2485</td>\n",
       "      <td>1651</td>\n",
       "    </tr>\n",
       "  </tbody>\n",
       "</table>\n",
       "</div>"
      ],
      "text/plain": [
       "  tpep_pickup_datetime  passenger_count  VendorID\n",
       "0  2022-01-01 00:00:00             6838      4261\n",
       "1  2022-01-01 01:00:00             7738      4997\n",
       "2  2022-01-01 02:00:00             5974      3901\n",
       "3  2022-01-01 03:00:00             4107      2686\n",
       "4  2022-01-01 04:00:00             2485      1651"
      ]
     },
     "execution_count": 2,
     "metadata": {},
     "output_type": "execute_result"
    }
   ],
   "source": [
    "data = pd.read_csv(\"d:/uber-taxi-demand/data/yellow_tripdata_2022.csv\")\n",
    "data.head()"
   ]
  },
  {
   "cell_type": "code",
   "execution_count": 3,
   "id": "69bd8494-5ee0-4aad-b914-fcfe855143ca",
   "metadata": {},
   "outputs": [
    {
     "data": {
      "text/plain": [
       "(21624, 3)"
      ]
     },
     "execution_count": 3,
     "metadata": {},
     "output_type": "execute_result"
    }
   ],
   "source": [
    "data.shape"
   ]
  },
  {
   "cell_type": "code",
   "execution_count": 4,
   "id": "4acd7b25",
   "metadata": {},
   "outputs": [
    {
     "data": {
      "text/html": [
       "<div>\n",
       "<style scoped>\n",
       "    .dataframe tbody tr th:only-of-type {\n",
       "        vertical-align: middle;\n",
       "    }\n",
       "\n",
       "    .dataframe tbody tr th {\n",
       "        vertical-align: top;\n",
       "    }\n",
       "\n",
       "    .dataframe thead th {\n",
       "        text-align: right;\n",
       "    }\n",
       "</style>\n",
       "<table border=\"1\" class=\"dataframe\">\n",
       "  <thead>\n",
       "    <tr style=\"text-align: right;\">\n",
       "      <th></th>\n",
       "      <th>tpep_pickup_datetime</th>\n",
       "      <th>passenger_count</th>\n",
       "      <th>VendorID</th>\n",
       "    </tr>\n",
       "  </thead>\n",
       "  <tbody>\n",
       "    <tr>\n",
       "      <th>21619</th>\n",
       "      <td>2022-12-31 19:00:00</td>\n",
       "      <td>8584</td>\n",
       "      <td>5730</td>\n",
       "    </tr>\n",
       "    <tr>\n",
       "      <th>21620</th>\n",
       "      <td>2022-12-31 20:00:00</td>\n",
       "      <td>9419</td>\n",
       "      <td>6210</td>\n",
       "    </tr>\n",
       "    <tr>\n",
       "      <th>21621</th>\n",
       "      <td>2022-12-31 21:00:00</td>\n",
       "      <td>9081</td>\n",
       "      <td>5962</td>\n",
       "    </tr>\n",
       "    <tr>\n",
       "      <th>21622</th>\n",
       "      <td>2022-12-31 22:00:00</td>\n",
       "      <td>6732</td>\n",
       "      <td>4350</td>\n",
       "    </tr>\n",
       "    <tr>\n",
       "      <th>21623</th>\n",
       "      <td>2022-12-31 23:00:00</td>\n",
       "      <td>4873</td>\n",
       "      <td>3273</td>\n",
       "    </tr>\n",
       "  </tbody>\n",
       "</table>\n",
       "</div>"
      ],
      "text/plain": [
       "      tpep_pickup_datetime  passenger_count  VendorID\n",
       "21619  2022-12-31 19:00:00             8584      5730\n",
       "21620  2022-12-31 20:00:00             9419      6210\n",
       "21621  2022-12-31 21:00:00             9081      5962\n",
       "21622  2022-12-31 22:00:00             6732      4350\n",
       "21623  2022-12-31 23:00:00             4873      3273"
      ]
     },
     "execution_count": 4,
     "metadata": {},
     "output_type": "execute_result"
    }
   ],
   "source": [
    "data.tail()"
   ]
  },
  {
   "cell_type": "code",
   "execution_count": 5,
   "id": "6af19bf0",
   "metadata": {},
   "outputs": [
    {
     "name": "stdout",
     "output_type": "stream",
     "text": [
      "<class 'pandas.core.frame.DataFrame'>\n",
      "RangeIndex: 21624 entries, 0 to 21623\n",
      "Data columns (total 3 columns):\n",
      " #   Column                Non-Null Count  Dtype \n",
      "---  ------                --------------  ----- \n",
      " 0   tpep_pickup_datetime  21624 non-null  object\n",
      " 1   passenger_count       21624 non-null  int64 \n",
      " 2   VendorID              21624 non-null  int64 \n",
      "dtypes: int64(2), object(1)\n",
      "memory usage: 506.9+ KB\n"
     ]
    }
   ],
   "source": [
    "data.info()"
   ]
  },
  {
   "cell_type": "code",
   "execution_count": 6,
   "id": "509094e9",
   "metadata": {},
   "outputs": [],
   "source": [
    "df = data.copy()"
   ]
  },
  {
   "cell_type": "code",
   "execution_count": 7,
   "id": "e70f80f5",
   "metadata": {},
   "outputs": [],
   "source": [
    "###\n",
    "df['timestamp'] = pd.to_datetime(df.tpep_pickup_datetime)"
   ]
  },
  {
   "cell_type": "code",
   "execution_count": 8,
   "id": "c019c57d",
   "metadata": {},
   "outputs": [
    {
     "name": "stdout",
     "output_type": "stream",
     "text": [
      "<class 'pandas.core.frame.DataFrame'>\n",
      "RangeIndex: 21624 entries, 0 to 21623\n",
      "Data columns (total 4 columns):\n",
      " #   Column                Non-Null Count  Dtype         \n",
      "---  ------                --------------  -----         \n",
      " 0   tpep_pickup_datetime  21624 non-null  object        \n",
      " 1   passenger_count       21624 non-null  int64         \n",
      " 2   VendorID              21624 non-null  int64         \n",
      " 3   timestamp             21624 non-null  datetime64[ns]\n",
      "dtypes: datetime64[ns](1), int64(2), object(1)\n",
      "memory usage: 675.9+ KB\n"
     ]
    }
   ],
   "source": [
    "df.info()"
   ]
  },
  {
   "cell_type": "code",
   "execution_count": 9,
   "id": "b7754ce1",
   "metadata": {},
   "outputs": [],
   "source": [
    "###\n",
    "df.drop(columns=['tpep_pickup_datetime'], inplace=True)"
   ]
  },
  {
   "cell_type": "code",
   "execution_count": 10,
   "id": "8b2a5939",
   "metadata": {},
   "outputs": [],
   "source": [
    "###\n",
    "df.sort_values('timestamp', inplace=True)"
   ]
  },
  {
   "cell_type": "code",
   "execution_count": 11,
   "id": "4bbbcbbc",
   "metadata": {},
   "outputs": [
    {
     "data": {
      "text/html": [
       "<div>\n",
       "<style scoped>\n",
       "    .dataframe tbody tr th:only-of-type {\n",
       "        vertical-align: middle;\n",
       "    }\n",
       "\n",
       "    .dataframe tbody tr th {\n",
       "        vertical-align: top;\n",
       "    }\n",
       "\n",
       "    .dataframe thead th {\n",
       "        text-align: right;\n",
       "    }\n",
       "</style>\n",
       "<table border=\"1\" class=\"dataframe\">\n",
       "  <thead>\n",
       "    <tr style=\"text-align: right;\">\n",
       "      <th></th>\n",
       "      <th>passenger_count</th>\n",
       "      <th>VendorID</th>\n",
       "      <th>timestamp</th>\n",
       "    </tr>\n",
       "  </thead>\n",
       "  <tbody>\n",
       "    <tr>\n",
       "      <th>0</th>\n",
       "      <td>6838</td>\n",
       "      <td>4261</td>\n",
       "      <td>2022-01-01 00:00:00</td>\n",
       "    </tr>\n",
       "    <tr>\n",
       "      <th>1</th>\n",
       "      <td>7738</td>\n",
       "      <td>4997</td>\n",
       "      <td>2022-01-01 01:00:00</td>\n",
       "    </tr>\n",
       "    <tr>\n",
       "      <th>2</th>\n",
       "      <td>5974</td>\n",
       "      <td>3901</td>\n",
       "      <td>2022-01-01 02:00:00</td>\n",
       "    </tr>\n",
       "    <tr>\n",
       "      <th>3</th>\n",
       "      <td>4107</td>\n",
       "      <td>2686</td>\n",
       "      <td>2022-01-01 03:00:00</td>\n",
       "    </tr>\n",
       "    <tr>\n",
       "      <th>4</th>\n",
       "      <td>2485</td>\n",
       "      <td>1651</td>\n",
       "      <td>2022-01-01 04:00:00</td>\n",
       "    </tr>\n",
       "    <tr>\n",
       "      <th>...</th>\n",
       "      <td>...</td>\n",
       "      <td>...</td>\n",
       "      <td>...</td>\n",
       "    </tr>\n",
       "    <tr>\n",
       "      <th>17136</th>\n",
       "      <td>0</td>\n",
       "      <td>0</td>\n",
       "      <td>2023-04-18 10:00:00</td>\n",
       "    </tr>\n",
       "    <tr>\n",
       "      <th>17137</th>\n",
       "      <td>0</td>\n",
       "      <td>0</td>\n",
       "      <td>2023-04-18 11:00:00</td>\n",
       "    </tr>\n",
       "    <tr>\n",
       "      <th>17138</th>\n",
       "      <td>0</td>\n",
       "      <td>0</td>\n",
       "      <td>2023-04-18 12:00:00</td>\n",
       "    </tr>\n",
       "    <tr>\n",
       "      <th>17139</th>\n",
       "      <td>0</td>\n",
       "      <td>0</td>\n",
       "      <td>2023-04-18 13:00:00</td>\n",
       "    </tr>\n",
       "    <tr>\n",
       "      <th>17140</th>\n",
       "      <td>1</td>\n",
       "      <td>1</td>\n",
       "      <td>2023-04-18 14:00:00</td>\n",
       "    </tr>\n",
       "  </tbody>\n",
       "</table>\n",
       "<p>21624 rows × 3 columns</p>\n",
       "</div>"
      ],
      "text/plain": [
       "       passenger_count  VendorID           timestamp\n",
       "0                 6838      4261 2022-01-01 00:00:00\n",
       "1                 7738      4997 2022-01-01 01:00:00\n",
       "2                 5974      3901 2022-01-01 02:00:00\n",
       "3                 4107      2686 2022-01-01 03:00:00\n",
       "4                 2485      1651 2022-01-01 04:00:00\n",
       "...                ...       ...                 ...\n",
       "17136                0         0 2023-04-18 10:00:00\n",
       "17137                0         0 2023-04-18 11:00:00\n",
       "17138                0         0 2023-04-18 12:00:00\n",
       "17139                0         0 2023-04-18 13:00:00\n",
       "17140                1         1 2023-04-18 14:00:00\n",
       "\n",
       "[21624 rows x 3 columns]"
      ]
     },
     "execution_count": 11,
     "metadata": {},
     "output_type": "execute_result"
    }
   ],
   "source": [
    "df"
   ]
  },
  {
   "cell_type": "markdown",
   "id": "ac4ed565-2d00-459f-b86d-1579843874ab",
   "metadata": {},
   "source": [
    "# Checking Duplicates"
   ]
  },
  {
   "cell_type": "code",
   "execution_count": 12,
   "id": "8e8b6494-0625-43a7-b373-4a539cd69923",
   "metadata": {},
   "outputs": [
    {
     "name": "stdout",
     "output_type": "stream",
     "text": [
      "False    11343\n",
      "True     10281\n",
      "Name: count, dtype: int64\n"
     ]
    }
   ],
   "source": [
    "# Check for duplicate values\n",
    "value_counts  = df.duplicated(subset='timestamp').value_counts()\n",
    "print(value_counts )"
   ]
  },
  {
   "cell_type": "markdown",
   "id": "c282be03-06f6-4ba3-9362-3fe02c9153a4",
   "metadata": {},
   "source": [
    "### As we can see there is 10281 duplicates values we have to remove it"
   ]
  },
  {
   "cell_type": "markdown",
   "id": "9300d33c-543c-4467-8f17-7699ef227443",
   "metadata": {},
   "source": [
    "# Droping Duplicates"
   ]
  },
  {
   "cell_type": "code",
   "execution_count": 13,
   "id": "bab4864b",
   "metadata": {},
   "outputs": [],
   "source": [
    "###\n",
    "df.drop_duplicates(subset='timestamp', inplace=True)"
   ]
  },
  {
   "cell_type": "code",
   "execution_count": 14,
   "id": "5bf35ec9",
   "metadata": {},
   "outputs": [
    {
     "data": {
      "text/plain": [
       "0"
      ]
     },
     "execution_count": 14,
     "metadata": {},
     "output_type": "execute_result"
    }
   ],
   "source": [
    "df.duplicated().sum()"
   ]
  },
  {
   "cell_type": "code",
   "execution_count": 15,
   "id": "1b2e3d74",
   "metadata": {},
   "outputs": [
    {
     "data": {
      "text/plain": [
       "(11343, 3)"
      ]
     },
     "execution_count": 15,
     "metadata": {},
     "output_type": "execute_result"
    }
   ],
   "source": [
    "df.shape"
   ]
  },
  {
   "cell_type": "code",
   "execution_count": 16,
   "id": "c063c2d9",
   "metadata": {},
   "outputs": [
    {
     "data": {
      "text/html": [
       "<div>\n",
       "<style scoped>\n",
       "    .dataframe tbody tr th:only-of-type {\n",
       "        vertical-align: middle;\n",
       "    }\n",
       "\n",
       "    .dataframe tbody tr th {\n",
       "        vertical-align: top;\n",
       "    }\n",
       "\n",
       "    .dataframe thead th {\n",
       "        text-align: right;\n",
       "    }\n",
       "</style>\n",
       "<table border=\"1\" class=\"dataframe\">\n",
       "  <thead>\n",
       "    <tr style=\"text-align: right;\">\n",
       "      <th></th>\n",
       "      <th>passenger_count</th>\n",
       "      <th>VendorID</th>\n",
       "      <th>timestamp</th>\n",
       "    </tr>\n",
       "  </thead>\n",
       "  <tbody>\n",
       "    <tr>\n",
       "      <th>0</th>\n",
       "      <td>6838</td>\n",
       "      <td>4261</td>\n",
       "      <td>2022-01-01 00:00:00</td>\n",
       "    </tr>\n",
       "    <tr>\n",
       "      <th>1</th>\n",
       "      <td>7738</td>\n",
       "      <td>4997</td>\n",
       "      <td>2022-01-01 01:00:00</td>\n",
       "    </tr>\n",
       "    <tr>\n",
       "      <th>2</th>\n",
       "      <td>5974</td>\n",
       "      <td>3901</td>\n",
       "      <td>2022-01-01 02:00:00</td>\n",
       "    </tr>\n",
       "    <tr>\n",
       "      <th>3</th>\n",
       "      <td>4107</td>\n",
       "      <td>2686</td>\n",
       "      <td>2022-01-01 03:00:00</td>\n",
       "    </tr>\n",
       "    <tr>\n",
       "      <th>4</th>\n",
       "      <td>2485</td>\n",
       "      <td>1651</td>\n",
       "      <td>2022-01-01 04:00:00</td>\n",
       "    </tr>\n",
       "    <tr>\n",
       "      <th>...</th>\n",
       "      <td>...</td>\n",
       "      <td>...</td>\n",
       "      <td>...</td>\n",
       "    </tr>\n",
       "    <tr>\n",
       "      <th>14530</th>\n",
       "      <td>0</td>\n",
       "      <td>0</td>\n",
       "      <td>2022-12-30 20:00:00</td>\n",
       "    </tr>\n",
       "    <tr>\n",
       "      <th>14531</th>\n",
       "      <td>0</td>\n",
       "      <td>0</td>\n",
       "      <td>2022-12-30 21:00:00</td>\n",
       "    </tr>\n",
       "    <tr>\n",
       "      <th>21598</th>\n",
       "      <td>7092</td>\n",
       "      <td>4547</td>\n",
       "      <td>2022-12-30 22:00:00</td>\n",
       "    </tr>\n",
       "    <tr>\n",
       "      <th>21599</th>\n",
       "      <td>6589</td>\n",
       "      <td>4336</td>\n",
       "      <td>2022-12-30 23:00:00</td>\n",
       "    </tr>\n",
       "    <tr>\n",
       "      <th>21600</th>\n",
       "      <td>6048</td>\n",
       "      <td>4015</td>\n",
       "      <td>2022-12-31 00:00:00</td>\n",
       "    </tr>\n",
       "  </tbody>\n",
       "</table>\n",
       "<p>8737 rows × 3 columns</p>\n",
       "</div>"
      ],
      "text/plain": [
       "       passenger_count  VendorID           timestamp\n",
       "0                 6838      4261 2022-01-01 00:00:00\n",
       "1                 7738      4997 2022-01-01 01:00:00\n",
       "2                 5974      3901 2022-01-01 02:00:00\n",
       "3                 4107      2686 2022-01-01 03:00:00\n",
       "4                 2485      1651 2022-01-01 04:00:00\n",
       "...                ...       ...                 ...\n",
       "14530                0         0 2022-12-30 20:00:00\n",
       "14531                0         0 2022-12-30 21:00:00\n",
       "21598             7092      4547 2022-12-30 22:00:00\n",
       "21599             6589      4336 2022-12-30 23:00:00\n",
       "21600             6048      4015 2022-12-31 00:00:00\n",
       "\n",
       "[8737 rows x 3 columns]"
      ]
     },
     "execution_count": 16,
     "metadata": {},
     "output_type": "execute_result"
    }
   ],
   "source": [
    "###\n",
    "df = df[~(df.timestamp > pd.Timestamp('2022-12-31 00:00:00'))]\n",
    "df"
   ]
  },
  {
   "cell_type": "markdown",
   "id": "dc004f6b-1b73-45a1-88ac-f4c07a9b11a8",
   "metadata": {},
   "source": [
    "# Handling Missing Values\n",
    "- Detect\n",
    "- Remove or Drop\n",
    "- Filtering\n",
    "- if the data is categorical then we have to use \"Mode\"\n",
    "- if data is numerical, we have to use \"mean\", and \"median\"."
   ]
  },
  {
   "cell_type": "markdown",
   "id": "2b0f0945-5fe0-4692-81d2-978cb7b051a3",
   "metadata": {},
   "source": [
    "# Detect Missing values"
   ]
  },
  {
   "cell_type": "code",
   "execution_count": 17,
   "id": "9014a07a-fc9e-46e7-b285-f93bb8e7d5a9",
   "metadata": {},
   "outputs": [
    {
     "data": {
      "text/html": [
       "<div>\n",
       "<style scoped>\n",
       "    .dataframe tbody tr th:only-of-type {\n",
       "        vertical-align: middle;\n",
       "    }\n",
       "\n",
       "    .dataframe tbody tr th {\n",
       "        vertical-align: top;\n",
       "    }\n",
       "\n",
       "    .dataframe thead th {\n",
       "        text-align: right;\n",
       "    }\n",
       "</style>\n",
       "<table border=\"1\" class=\"dataframe\">\n",
       "  <thead>\n",
       "    <tr style=\"text-align: right;\">\n",
       "      <th></th>\n",
       "      <th>passenger_count</th>\n",
       "      <th>VendorID</th>\n",
       "      <th>timestamp</th>\n",
       "    </tr>\n",
       "  </thead>\n",
       "  <tbody>\n",
       "    <tr>\n",
       "      <th>0</th>\n",
       "      <td>False</td>\n",
       "      <td>False</td>\n",
       "      <td>False</td>\n",
       "    </tr>\n",
       "    <tr>\n",
       "      <th>1</th>\n",
       "      <td>False</td>\n",
       "      <td>False</td>\n",
       "      <td>False</td>\n",
       "    </tr>\n",
       "    <tr>\n",
       "      <th>2</th>\n",
       "      <td>False</td>\n",
       "      <td>False</td>\n",
       "      <td>False</td>\n",
       "    </tr>\n",
       "    <tr>\n",
       "      <th>3</th>\n",
       "      <td>False</td>\n",
       "      <td>False</td>\n",
       "      <td>False</td>\n",
       "    </tr>\n",
       "    <tr>\n",
       "      <th>4</th>\n",
       "      <td>False</td>\n",
       "      <td>False</td>\n",
       "      <td>False</td>\n",
       "    </tr>\n",
       "    <tr>\n",
       "      <th>...</th>\n",
       "      <td>...</td>\n",
       "      <td>...</td>\n",
       "      <td>...</td>\n",
       "    </tr>\n",
       "    <tr>\n",
       "      <th>14530</th>\n",
       "      <td>False</td>\n",
       "      <td>False</td>\n",
       "      <td>False</td>\n",
       "    </tr>\n",
       "    <tr>\n",
       "      <th>14531</th>\n",
       "      <td>False</td>\n",
       "      <td>False</td>\n",
       "      <td>False</td>\n",
       "    </tr>\n",
       "    <tr>\n",
       "      <th>21598</th>\n",
       "      <td>False</td>\n",
       "      <td>False</td>\n",
       "      <td>False</td>\n",
       "    </tr>\n",
       "    <tr>\n",
       "      <th>21599</th>\n",
       "      <td>False</td>\n",
       "      <td>False</td>\n",
       "      <td>False</td>\n",
       "    </tr>\n",
       "    <tr>\n",
       "      <th>21600</th>\n",
       "      <td>False</td>\n",
       "      <td>False</td>\n",
       "      <td>False</td>\n",
       "    </tr>\n",
       "  </tbody>\n",
       "</table>\n",
       "<p>8737 rows × 3 columns</p>\n",
       "</div>"
      ],
      "text/plain": [
       "       passenger_count  VendorID  timestamp\n",
       "0                False     False      False\n",
       "1                False     False      False\n",
       "2                False     False      False\n",
       "3                False     False      False\n",
       "4                False     False      False\n",
       "...                ...       ...        ...\n",
       "14530            False     False      False\n",
       "14531            False     False      False\n",
       "21598            False     False      False\n",
       "21599            False     False      False\n",
       "21600            False     False      False\n",
       "\n",
       "[8737 rows x 3 columns]"
      ]
     },
     "execution_count": 17,
     "metadata": {},
     "output_type": "execute_result"
    }
   ],
   "source": [
    "df.isnull()"
   ]
  },
  {
   "cell_type": "code",
   "execution_count": 18,
   "id": "a8c201dd-e9db-4a7d-a31c-d7f55e7cb588",
   "metadata": {},
   "outputs": [
    {
     "data": {
      "text/plain": [
       "passenger_count    0\n",
       "VendorID           0\n",
       "timestamp          0\n",
       "dtype: int64"
      ]
     },
     "execution_count": 18,
     "metadata": {},
     "output_type": "execute_result"
    }
   ],
   "source": [
    "df.isnull().sum()"
   ]
  },
  {
   "cell_type": "code",
   "execution_count": 19,
   "id": "129615f1-2a3b-4e51-958d-65e529874170",
   "metadata": {},
   "outputs": [
    {
     "data": {
      "text/plain": [
       "0    3\n",
       "Name: count, dtype: int64"
      ]
     },
     "execution_count": 19,
     "metadata": {},
     "output_type": "execute_result"
    }
   ],
   "source": [
    "df.isnull().sum().value_counts()"
   ]
  },
  {
   "cell_type": "code",
   "execution_count": 20,
   "id": "383d644d-7c61-42cc-addf-b802820e259c",
   "metadata": {},
   "outputs": [
    {
     "data": {
      "text/plain": [
       "0        0\n",
       "1        0\n",
       "2        0\n",
       "3        0\n",
       "4        0\n",
       "        ..\n",
       "14530    0\n",
       "14531    0\n",
       "21598    0\n",
       "21599    0\n",
       "21600    0\n",
       "Length: 8737, dtype: int64"
      ]
     },
     "execution_count": 20,
     "metadata": {},
     "output_type": "execute_result"
    }
   ],
   "source": [
    "df.isnull().sum(axis=1)"
   ]
  },
  {
   "cell_type": "code",
   "execution_count": 21,
   "id": "70184375-afcb-4708-a7b7-aff2369aa9cf",
   "metadata": {},
   "outputs": [
    {
     "data": {
      "text/plain": [
       "0    8737\n",
       "Name: count, dtype: int64"
      ]
     },
     "execution_count": 21,
     "metadata": {},
     "output_type": "execute_result"
    }
   ],
   "source": [
    "df.isnull().sum(axis=1).value_counts()"
   ]
  },
  {
   "cell_type": "markdown",
   "id": "434a36b9-7e01-4007-8477-3acd82c77936",
   "metadata": {},
   "source": [
    "### There is no Missing Value"
   ]
  },
  {
   "cell_type": "markdown",
   "id": "5446ea9f-5b96-4a2e-8389-bd3de662fc3f",
   "metadata": {},
   "source": [
    "## Handling Outliers\n",
    "- Ways to handle\n",
    "    - Detect Outliers\n",
    "    - Dropping outliers\n",
    "    - Imputation - Median\n",
    "    - Quantile-based flooring and capping\n",
    "    - Transformations - Log transformation can help to reduce the effect of outliers\n",
    "- if the data is categorical then we have to use \"Mode\"\n",
    "- if data is numerical, we have to use \"mean\", and \"median\".\n",
    "- IsolationForest\n",
    "- pyod"
   ]
  },
  {
   "cell_type": "markdown",
   "id": "aef5b7c0-2b00-479d-9c5b-2be6ce71fb1c",
   "metadata": {},
   "source": [
    "# Detect Outliers"
   ]
  },
  {
   "cell_type": "code",
   "execution_count": 22,
   "id": "4fa34827-13c0-423c-96fb-74add3b99caa",
   "metadata": {},
   "outputs": [
    {
     "data": {
      "text/plain": [
       "<Axes: xlabel='passenger_count'>"
      ]
     },
     "execution_count": 22,
     "metadata": {},
     "output_type": "execute_result"
    },
    {
     "data": {
      "image/png": "[encoded data removed]",
      "text/plain": [
       "<Figure size 640x480 with 1 Axes>"
      ]
     },
     "metadata": {},
     "output_type": "display_data"
    }
   ],
   "source": [
    "sns.boxplot(data = data, x = \"passenger_count\")"
   ]
  },
  {
   "cell_type": "code",
   "execution_count": 23,
   "id": "c57ed743-9510-4c24-8f87-c5968ab204b6",
   "metadata": {},
   "outputs": [
    {
     "data": {
      "text/plain": [
       "<Axes: xlabel='passenger_count'>"
      ]
     },
     "execution_count": 23,
     "metadata": {},
     "output_type": "execute_result"
    },
    {
     "data": {
      "image/png": "[encoded data removed]",
      "text/plain": [
       "<Figure size 640x480 with 1 Axes>"
      ]
     },
     "metadata": {},
     "output_type": "display_data"
    }
   ],
   "source": [
    "sns.boxenplot(data = data, x = \"passenger_count\")"
   ]
  },
  {
   "cell_type": "code",
   "execution_count": 24,
   "id": "be8cd2e0-e95f-4af2-8d76-66f3b675e626",
   "metadata": {},
   "outputs": [
    {
     "data": {
      "text/plain": [
       "<Axes: xlabel='passenger_count'>"
      ]
     },
     "execution_count": 24,
     "metadata": {},
     "output_type": "execute_result"
    },
    {
     "data": {
      "image/png": "[encoded data removed]",
      "text/plain": [
       "<Figure size 640x480 with 1 Axes>"
      ]
     },
     "metadata": {},
     "output_type": "display_data"
    }
   ],
   "source": [
    "sns.violinplot(data = data, x = \"passenger_count\")"
   ]
  },
  {
   "cell_type": "code",
   "execution_count": 25,
   "id": "23f275aa-2bc0-4004-86da-db93818f4b88",
   "metadata": {},
   "outputs": [
    {
     "data": {
      "text/plain": [
       "<Axes: xlabel='VendorID'>"
      ]
     },
     "execution_count": 25,
     "metadata": {},
     "output_type": "execute_result"
    },
    {
     "data": {
      "image/png": "[encoded data removed]",
      "text/plain": [
       "<Figure size 640x480 with 1 Axes>"
      ]
     },
     "metadata": {},
     "output_type": "display_data"
    }
   ],
   "source": [
    "sns.boxplot(data = data, x = \"VendorID\")"
   ]
  },
  {
   "cell_type": "code",
   "execution_count": 26,
   "id": "cda1315c-8688-4089-841f-2f51cacd63d4",
   "metadata": {},
   "outputs": [
    {
     "data": {
      "text/plain": [
       "<Axes: xlabel='VendorID'>"
      ]
     },
     "execution_count": 26,
     "metadata": {},
     "output_type": "execute_result"
    },
    {
     "data": {
      "image/png": "[encoded data removed]",
      "text/plain": [
       "<Figure size 640x480 with 1 Axes>"
      ]
     },
     "metadata": {},
     "output_type": "display_data"
    }
   ],
   "source": [
    "sns.boxenplot(data = data, x = \"VendorID\")"
   ]
  },
  {
   "cell_type": "code",
   "execution_count": 27,
   "id": "6637bb1d-c0c0-4adc-92c8-b0c414621237",
   "metadata": {},
   "outputs": [
    {
     "data": {
      "text/plain": [
       "<Axes: xlabel='VendorID'>"
      ]
     },
     "execution_count": 27,
     "metadata": {},
     "output_type": "execute_result"
    },
    {
     "data": {
      "image/png": "[encoded data removed]",
      "text/plain": [
       "<Figure size 640x480 with 1 Axes>"
      ]
     },
     "metadata": {},
     "output_type": "display_data"
    }
   ],
   "source": [
    "sns.violinplot(data = data, x = \"VendorID\")"
   ]
  },
  {
   "cell_type": "markdown",
   "id": "39a10066-e01c-47c5-8667-a87c21363835",
   "metadata": {},
   "source": [
    "### There is no outliers in \"VendorID\" and \"passenger_count\""
   ]
  },
  {
   "cell_type": "markdown",
   "id": "530c2f07",
   "metadata": {},
   "source": [
    "**Formatting**"
   ]
  },
  {
   "cell_type": "code",
   "execution_count": 28,
   "id": "f0a07197-625b-4a0b-b3a5-a7472ac1de6e",
   "metadata": {},
   "outputs": [],
   "source": [
    "df = df.rename({'passenger_count':'passengerDemand', 'VendorID': 'taxiDemand'}, axis=1)"
   ]
  },
  {
   "cell_type": "code",
   "execution_count": 29,
   "id": "e596445e-ab96-4c09-862f-54edf579d331",
   "metadata": {},
   "outputs": [
    {
     "data": {
      "text/html": [
       "<div>\n",
       "<style scoped>\n",
       "    .dataframe tbody tr th:only-of-type {\n",
       "        vertical-align: middle;\n",
       "    }\n",
       "\n",
       "    .dataframe tbody tr th {\n",
       "        vertical-align: top;\n",
       "    }\n",
       "\n",
       "    .dataframe thead th {\n",
       "        text-align: right;\n",
       "    }\n",
       "</style>\n",
       "<table border=\"1\" class=\"dataframe\">\n",
       "  <thead>\n",
       "    <tr style=\"text-align: right;\">\n",
       "      <th></th>\n",
       "      <th>passengerDemand</th>\n",
       "      <th>taxiDemand</th>\n",
       "      <th>timestamp</th>\n",
       "    </tr>\n",
       "  </thead>\n",
       "  <tbody>\n",
       "    <tr>\n",
       "      <th>0</th>\n",
       "      <td>6838</td>\n",
       "      <td>4261</td>\n",
       "      <td>2022-01-01 00:00:00</td>\n",
       "    </tr>\n",
       "    <tr>\n",
       "      <th>1</th>\n",
       "      <td>7738</td>\n",
       "      <td>4997</td>\n",
       "      <td>2022-01-01 01:00:00</td>\n",
       "    </tr>\n",
       "    <tr>\n",
       "      <th>2</th>\n",
       "      <td>5974</td>\n",
       "      <td>3901</td>\n",
       "      <td>2022-01-01 02:00:00</td>\n",
       "    </tr>\n",
       "    <tr>\n",
       "      <th>3</th>\n",
       "      <td>4107</td>\n",
       "      <td>2686</td>\n",
       "      <td>2022-01-01 03:00:00</td>\n",
       "    </tr>\n",
       "    <tr>\n",
       "      <th>4</th>\n",
       "      <td>2485</td>\n",
       "      <td>1651</td>\n",
       "      <td>2022-01-01 04:00:00</td>\n",
       "    </tr>\n",
       "    <tr>\n",
       "      <th>...</th>\n",
       "      <td>...</td>\n",
       "      <td>...</td>\n",
       "      <td>...</td>\n",
       "    </tr>\n",
       "    <tr>\n",
       "      <th>14530</th>\n",
       "      <td>0</td>\n",
       "      <td>0</td>\n",
       "      <td>2022-12-30 20:00:00</td>\n",
       "    </tr>\n",
       "    <tr>\n",
       "      <th>14531</th>\n",
       "      <td>0</td>\n",
       "      <td>0</td>\n",
       "      <td>2022-12-30 21:00:00</td>\n",
       "    </tr>\n",
       "    <tr>\n",
       "      <th>21598</th>\n",
       "      <td>7092</td>\n",
       "      <td>4547</td>\n",
       "      <td>2022-12-30 22:00:00</td>\n",
       "    </tr>\n",
       "    <tr>\n",
       "      <th>21599</th>\n",
       "      <td>6589</td>\n",
       "      <td>4336</td>\n",
       "      <td>2022-12-30 23:00:00</td>\n",
       "    </tr>\n",
       "    <tr>\n",
       "      <th>21600</th>\n",
       "      <td>6048</td>\n",
       "      <td>4015</td>\n",
       "      <td>2022-12-31 00:00:00</td>\n",
       "    </tr>\n",
       "  </tbody>\n",
       "</table>\n",
       "<p>8737 rows × 3 columns</p>\n",
       "</div>"
      ],
      "text/plain": [
       "       passengerDemand  taxiDemand           timestamp\n",
       "0                 6838        4261 2022-01-01 00:00:00\n",
       "1                 7738        4997 2022-01-01 01:00:00\n",
       "2                 5974        3901 2022-01-01 02:00:00\n",
       "3                 4107        2686 2022-01-01 03:00:00\n",
       "4                 2485        1651 2022-01-01 04:00:00\n",
       "...                ...         ...                 ...\n",
       "14530                0           0 2022-12-30 20:00:00\n",
       "14531                0           0 2022-12-30 21:00:00\n",
       "21598             7092        4547 2022-12-30 22:00:00\n",
       "21599             6589        4336 2022-12-30 23:00:00\n",
       "21600             6048        4015 2022-12-31 00:00:00\n",
       "\n",
       "[8737 rows x 3 columns]"
      ]
     },
     "execution_count": 29,
     "metadata": {},
     "output_type": "execute_result"
    }
   ],
   "source": [
    "df"
   ]
  },
  {
   "cell_type": "code",
   "execution_count": 30,
   "id": "7a988d93-52b4-49f9-813f-52913631f26f",
   "metadata": {},
   "outputs": [],
   "source": [
    "df.to_parquet('d:/uber-taxi-demand/data/yellow_trip_v2.parquet', index=False)"
   ]
  },
  {
   "cell_type": "code",
   "execution_count": null,
   "id": "e96e7e13",
   "metadata": {},
   "outputs": [],
   "source": []
  }
 ],
 "metadata": {
  "kernelspec": {
   "display_name": "Python 3 (ipykernel)",
   "language": "python",
   "name": "python3"
  },
  "language_info": {
   "codemirror_mode": {
    "name": "ipython",
    "version": 3
   },
   "file_extension": ".py",
   "mimetype": "text/x-python",
   "name": "python",
   "nbconvert_exporter": "python",
   "pygments_lexer": "ipython3",
   "version": "3.10.6"
  }
 },
 "nbformat": 4,
 "nbformat_minor": 5
}
