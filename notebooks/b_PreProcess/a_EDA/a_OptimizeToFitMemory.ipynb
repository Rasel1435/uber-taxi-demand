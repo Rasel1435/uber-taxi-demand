{
 "cells": [
  {
   "cell_type": "code",
   "execution_count": null,
   "id": "8b81c3d8",
   "metadata": {},
   "outputs": [],
   "source": [
    "import numpy as np\n",
    "from dask.distributed import Client, LocalCluster\n",
    "import dask.dataframe as dd\n",
    "import matplotlib.pyplot as plt\n",
    "import seaborn as sns"
   ]
  },
  {
   "cell_type": "code",
   "execution_count": null,
   "id": "9188070c",
   "metadata": {},
   "outputs": [],
   "source": [
    "ddf = dd.read_parquet(\"D:\\\\uber-taxi-demand\\\\data\\\\yellow_tripdata_2022-01.parquet\", npartitions=1)"
   ]
  },
  {
   "cell_type": "code",
   "execution_count": null,
   "id": "4ddbdba1",
   "metadata": {
    "scrolled": false
   },
   "outputs": [],
   "source": [
    "ddf.head().T"
   ]
  },
  {
   "cell_type": "code",
   "execution_count": null,
   "id": "780b4c6a",
   "metadata": {},
   "outputs": [],
   "source": [
    "ddf = ddf.set_index(ddf.tpep_pickup_datetime, sorted=True)"
   ]
  },
  {
   "cell_type": "code",
   "execution_count": null,
   "id": "01c8c08f",
   "metadata": {},
   "outputs": [],
   "source": [
    "ddf.head().T"
   ]
  },
  {
   "cell_type": "code",
   "execution_count": null,
   "id": "42b2eee7",
   "metadata": {},
   "outputs": [],
   "source": [
    "ddf.tail()"
   ]
  },
  {
   "cell_type": "code",
   "execution_count": null,
   "id": "6a77f14a",
   "metadata": {},
   "outputs": [],
   "source": [
    "ddf.isnull().sum().compute()"
   ]
  },
  {
   "cell_type": "code",
   "execution_count": null,
   "id": "128a8a24",
   "metadata": {},
   "outputs": [],
   "source": [
    "ddf.ffill()"
   ]
  },
  {
   "cell_type": "code",
   "execution_count": null,
   "id": "189d42f3",
   "metadata": {},
   "outputs": [],
   "source": []
  },
  {
   "cell_type": "code",
   "execution_count": null,
   "id": "8e20aaf9",
   "metadata": {},
   "outputs": [],
   "source": [
    "\n",
    "ddf.resample('H').agg({'passenger_count': 'sum','fare_amount':'median', 'VendorID': 'count'})"
   ]
  },
  {
   "cell_type": "code",
   "execution_count": null,
   "id": "5a68ea57",
   "metadata": {},
   "outputs": [],
   "source": [
    "ddf.loc[ddf.tpep_pickup_datetime>'2021-12-31 23:00:00', ['passenger_count','fare_amount', 'VendorID']]"
   ]
  },
  {
   "cell_type": "markdown",
   "id": "947fbbb6",
   "metadata": {},
   "source": [
    "### optimize for memory"
   ]
  },
  {
   "cell_type": "code",
   "execution_count": null,
   "id": "c6f9b47f",
   "metadata": {},
   "outputs": [],
   "source": [
    "###### Steps ######"
   ]
  },
  {
   "cell_type": "code",
   "execution_count": null,
   "id": "37cb3858",
   "metadata": {},
   "outputs": [],
   "source": [
    "ddf = dd.read_parquet(\"D:\\\\uber-taxi-demand\\\\data\\\\yellow_tripdata_2022-01.parquet\", npartitions=1)\n",
    "s1 = ddf.loc[ddf.tpep_pickup_datetime>'2021-12-31 23:00:00', ['tpep_pickup_datetime','passenger_count','fare_amount', 'VendorID']]\n",
    "s2 = s1.set_index('tpep_pickup_datetime', sorted=True)\n",
    "s3 = s2.ffill()\n",
    "s4 = s3.resample('H').agg({'passenger_count': 'sum', 'VendorID': 'count'})\n",
    "s4.dask"
   ]
  },
  {
   "cell_type": "code",
   "execution_count": null,
   "id": "45e84c05",
   "metadata": {},
   "outputs": [],
   "source": [
    "s4.compute().info()"
   ]
  },
  {
   "cell_type": "code",
   "execution_count": null,
   "id": "f8cdc3ab",
   "metadata": {},
   "outputs": [],
   "source": [
    "def optimeToFitMemory(ddf):\n",
    "    new_types = dict(\n",
    "        float32 = ['passenger_count',],\n",
    "        int16 = ['VendorID',]\n",
    "    )\n",
    "    for key in new_types:\n",
    "        for col in new_types[key]:\n",
    "            ddf[col] = ddf[col].astype(key)\n",
    "    return ddf"
   ]
  },
  {
   "cell_type": "code",
   "execution_count": null,
   "id": "c34fa8a9",
   "metadata": {},
   "outputs": [],
   "source": [
    "s5 = s4.map_partitions(optimeToFitMemory)\n",
    "s5.dask"
   ]
  },
  {
   "cell_type": "code",
   "execution_count": null,
   "id": "9484e0c5",
   "metadata": {},
   "outputs": [],
   "source": [
    "s5.compute().info()"
   ]
  },
  {
   "cell_type": "code",
   "execution_count": null,
   "id": "dec03598",
   "metadata": {},
   "outputs": [],
   "source": [
    "df = s5.compute().info()"
   ]
  },
  {
   "cell_type": "code",
   "execution_count": null,
   "id": "1ef7027f",
   "metadata": {},
   "outputs": [],
   "source": []
  },
  {
   "cell_type": "code",
   "execution_count": null,
   "id": "258fc3bb",
   "metadata": {},
   "outputs": [],
   "source": [
    "dsfdsf./"
   ]
  },
  {
   "cell_type": "code",
   "execution_count": null,
   "id": "43f88d76",
   "metadata": {},
   "outputs": [],
   "source": [
    "cluster = LocalCluster(\n",
    "    name='timeseries',\n",
    "    n_workers=3,\n",
    "    threads_per_worker=1,\n",
    "    host='localhost',\n",
    "    scheduler_port=8786,\n",
    "    asynchronous=True\n",
    ")\n",
    "client = Client(cluster)"
   ]
  },
  {
   "cell_type": "code",
   "execution_count": null,
   "id": "8f6517d1",
   "metadata": {},
   "outputs": [],
   "source": [
    "client"
   ]
  },
  {
   "cell_type": "code",
   "execution_count": null,
   "id": "e2007f47",
   "metadata": {},
   "outputs": [],
   "source": []
  },
  {
   "cell_type": "code",
   "execution_count": null,
   "id": "15f1250a",
   "metadata": {},
   "outputs": [],
   "source": []
  }
 ],
 "metadata": {
  "kernelspec": {
   "display_name": "Python 3 (ipykernel)",
   "language": "python",
   "name": "python3"
  },
  "language_info": {
   "codemirror_mode": {
    "name": "ipython",
    "version": 3
   },
   "file_extension": ".py",
   "mimetype": "text/x-python",
   "name": "python",
   "nbconvert_exporter": "python",
   "pygments_lexer": "ipython3",
   "version": "3.10.6"
  }
 },
 "nbformat": 4,
 "nbformat_minor": 5
}
