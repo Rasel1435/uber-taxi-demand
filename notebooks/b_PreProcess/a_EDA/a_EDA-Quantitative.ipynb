{
 "cells": [
  {
   "cell_type": "markdown",
   "id": "21ab2c08",
   "metadata": {},
   "source": [
    "**imports**"
   ]
  },
  {
   "cell_type": "code",
   "execution_count": 1,
   "id": "a2440b0f",
   "metadata": {},
   "outputs": [],
   "source": [
    "import numpy as np\n",
    "import pandas as pd\n",
    "import matplotlib.pyplot as plt\n",
    "import seaborn as sns"
   ]
  },
  {
   "cell_type": "code",
   "execution_count": null,
   "id": "5d2ed0a7",
   "metadata": {},
   "outputs": [],
   "source": []
  },
  {
   "cell_type": "markdown",
   "id": "823cd4a1",
   "metadata": {},
   "source": [
    "# Exploratory Data Analysis - Quantitative\n",
    "* Load\n",
    "* Validate Data\n",
    "* Data Summary - Shape, Columns, Types\n",
    "* Check Missing Values\n",
    "* Know Features and Target\n",
    "* Format column Names - If required\n",
    "* Univariate Analysis\n",
    "    * 5 Number Summary\n",
    "    * Check Continuous Distributions - Histogram, Distplot, STD\n",
    "    * Check Discrete Distributions - countplot\n",
    "    * Check Outliers - BoxPlot, ViolinPlot\n",
    "* Multivariate Analysis\n",
    "    * Features vs Target Scatter plot\n",
    "    * Correlation Analysis - HeatMap"
   ]
  },
  {
   "cell_type": "markdown",
   "id": "2410130d",
   "metadata": {},
   "source": [
    "**Loading...**"
   ]
  },
  {
   "cell_type": "code",
   "execution_count": 2,
   "id": "1ec748bc",
   "metadata": {},
   "outputs": [],
   "source": [
    "df = pd.read_csv(\"D:\\\\uber-taxi-demand\\\\data\\\\yellow_tripdata_2022.csv\")"
   ]
  },
  {
   "cell_type": "code",
   "execution_count": 3,
   "id": "a07cc4ff",
   "metadata": {},
   "outputs": [
    {
     "data": {
      "text/html": [
       "<div>\n",
       "<style scoped>\n",
       "    .dataframe tbody tr th:only-of-type {\n",
       "        vertical-align: middle;\n",
       "    }\n",
       "\n",
       "    .dataframe tbody tr th {\n",
       "        vertical-align: top;\n",
       "    }\n",
       "\n",
       "    .dataframe thead th {\n",
       "        text-align: right;\n",
       "    }\n",
       "</style>\n",
       "<table border=\"1\" class=\"dataframe\">\n",
       "  <thead>\n",
       "    <tr style=\"text-align: right;\">\n",
       "      <th></th>\n",
       "      <th>0</th>\n",
       "      <th>1</th>\n",
       "      <th>2</th>\n",
       "      <th>3</th>\n",
       "      <th>4</th>\n",
       "    </tr>\n",
       "  </thead>\n",
       "  <tbody>\n",
       "    <tr>\n",
       "      <th>tpep_pickup_datetime</th>\n",
       "      <td>2022-01-01 00:00:00</td>\n",
       "      <td>2022-01-01 01:00:00</td>\n",
       "      <td>2022-01-01 02:00:00</td>\n",
       "      <td>2022-01-01 03:00:00</td>\n",
       "      <td>2022-01-01 04:00:00</td>\n",
       "    </tr>\n",
       "    <tr>\n",
       "      <th>passenger_count</th>\n",
       "      <td>6838</td>\n",
       "      <td>7738</td>\n",
       "      <td>5974</td>\n",
       "      <td>4107</td>\n",
       "      <td>2485</td>\n",
       "    </tr>\n",
       "    <tr>\n",
       "      <th>VendorID</th>\n",
       "      <td>4261</td>\n",
       "      <td>4997</td>\n",
       "      <td>3901</td>\n",
       "      <td>2686</td>\n",
       "      <td>1651</td>\n",
       "    </tr>\n",
       "  </tbody>\n",
       "</table>\n",
       "</div>"
      ],
      "text/plain": [
       "                                        0                    1  \\\n",
       "tpep_pickup_datetime  2022-01-01 00:00:00  2022-01-01 01:00:00   \n",
       "passenger_count                      6838                 7738   \n",
       "VendorID                             4261                 4997   \n",
       "\n",
       "                                        2                    3  \\\n",
       "tpep_pickup_datetime  2022-01-01 02:00:00  2022-01-01 03:00:00   \n",
       "passenger_count                      5974                 4107   \n",
       "VendorID                             3901                 2686   \n",
       "\n",
       "                                        4  \n",
       "tpep_pickup_datetime  2022-01-01 04:00:00  \n",
       "passenger_count                      2485  \n",
       "VendorID                             1651  "
      ]
     },
     "execution_count": 3,
     "metadata": {},
     "output_type": "execute_result"
    }
   ],
   "source": [
    "df.head().T"
   ]
  },
  {
   "cell_type": "code",
   "execution_count": 4,
   "id": "c918db4d",
   "metadata": {},
   "outputs": [
    {
     "data": {
      "text/html": [
       "<div>\n",
       "<style scoped>\n",
       "    .dataframe tbody tr th:only-of-type {\n",
       "        vertical-align: middle;\n",
       "    }\n",
       "\n",
       "    .dataframe tbody tr th {\n",
       "        vertical-align: top;\n",
       "    }\n",
       "\n",
       "    .dataframe thead th {\n",
       "        text-align: right;\n",
       "    }\n",
       "</style>\n",
       "<table border=\"1\" class=\"dataframe\">\n",
       "  <thead>\n",
       "    <tr style=\"text-align: right;\">\n",
       "      <th></th>\n",
       "      <th>21619</th>\n",
       "      <th>21620</th>\n",
       "      <th>21621</th>\n",
       "      <th>21622</th>\n",
       "      <th>21623</th>\n",
       "    </tr>\n",
       "  </thead>\n",
       "  <tbody>\n",
       "    <tr>\n",
       "      <th>tpep_pickup_datetime</th>\n",
       "      <td>2022-12-31 19:00:00</td>\n",
       "      <td>2022-12-31 20:00:00</td>\n",
       "      <td>2022-12-31 21:00:00</td>\n",
       "      <td>2022-12-31 22:00:00</td>\n",
       "      <td>2022-12-31 23:00:00</td>\n",
       "    </tr>\n",
       "    <tr>\n",
       "      <th>passenger_count</th>\n",
       "      <td>8584</td>\n",
       "      <td>9419</td>\n",
       "      <td>9081</td>\n",
       "      <td>6732</td>\n",
       "      <td>4873</td>\n",
       "    </tr>\n",
       "    <tr>\n",
       "      <th>VendorID</th>\n",
       "      <td>5730</td>\n",
       "      <td>6210</td>\n",
       "      <td>5962</td>\n",
       "      <td>4350</td>\n",
       "      <td>3273</td>\n",
       "    </tr>\n",
       "  </tbody>\n",
       "</table>\n",
       "</div>"
      ],
      "text/plain": [
       "                                    21619                21620  \\\n",
       "tpep_pickup_datetime  2022-12-31 19:00:00  2022-12-31 20:00:00   \n",
       "passenger_count                      8584                 9419   \n",
       "VendorID                             5730                 6210   \n",
       "\n",
       "                                    21621                21622  \\\n",
       "tpep_pickup_datetime  2022-12-31 21:00:00  2022-12-31 22:00:00   \n",
       "passenger_count                      9081                 6732   \n",
       "VendorID                             5962                 4350   \n",
       "\n",
       "                                    21623  \n",
       "tpep_pickup_datetime  2022-12-31 23:00:00  \n",
       "passenger_count                      4873  \n",
       "VendorID                             3273  "
      ]
     },
     "execution_count": 4,
     "metadata": {},
     "output_type": "execute_result"
    }
   ],
   "source": [
    "df.tail().T"
   ]
  },
  {
   "cell_type": "code",
   "execution_count": null,
   "id": "3498658b",
   "metadata": {},
   "outputs": [],
   "source": []
  },
  {
   "cell_type": "code",
   "execution_count": 40,
   "id": "60cd1d1c",
   "metadata": {},
   "outputs": [],
   "source": [
    "### laoded successfully - Set pickup date time as index and rename VendorID to hourly_rides"
   ]
  },
  {
   "cell_type": "markdown",
   "id": "96ddc44a",
   "metadata": {},
   "source": [
    "# Basic Exploratory Data Analysis"
   ]
  },
  {
   "cell_type": "markdown",
   "id": "6df8a1b9",
   "metadata": {},
   "source": [
    "## Data Summary - Shape, Columns, Types"
   ]
  },
  {
   "cell_type": "code",
   "execution_count": 5,
   "id": "438c163e",
   "metadata": {},
   "outputs": [
    {
     "data": {
      "text/plain": [
       "(21624, 3)"
      ]
     },
     "execution_count": 5,
     "metadata": {},
     "output_type": "execute_result"
    }
   ],
   "source": [
    "df.shape"
   ]
  },
  {
   "cell_type": "code",
   "execution_count": 6,
   "id": "b0466370",
   "metadata": {},
   "outputs": [
    {
     "name": "stdout",
     "output_type": "stream",
     "text": [
      "<class 'pandas.core.frame.DataFrame'>\n",
      "RangeIndex: 21624 entries, 0 to 21623\n",
      "Data columns (total 3 columns):\n",
      " #   Column                Non-Null Count  Dtype \n",
      "---  ------                --------------  ----- \n",
      " 0   tpep_pickup_datetime  21624 non-null  object\n",
      " 1   passenger_count       21624 non-null  int64 \n",
      " 2   VendorID              21624 non-null  int64 \n",
      "dtypes: int64(2), object(1)\n",
      "memory usage: 506.9+ KB\n"
     ]
    }
   ],
   "source": [
    "df.info()"
   ]
  },
  {
   "cell_type": "code",
   "execution_count": 7,
   "id": "94124306",
   "metadata": {},
   "outputs": [
    {
     "data": {
      "text/plain": [
       "Index(['tpep_pickup_datetime', 'passenger_count', 'VendorID'], dtype='object')"
      ]
     },
     "execution_count": 7,
     "metadata": {},
     "output_type": "execute_result"
    }
   ],
   "source": [
    "df.columns"
   ]
  },
  {
   "cell_type": "code",
   "execution_count": null,
   "id": "aa2ee493",
   "metadata": {},
   "outputs": [],
   "source": []
  },
  {
   "cell_type": "code",
   "execution_count": 8,
   "id": "f94fbe8b",
   "metadata": {},
   "outputs": [],
   "source": [
    "### Structre and type looks fine - 'tpep_pickup_datetime' needs to be formatted as pd.TimeStamp"
   ]
  },
  {
   "cell_type": "markdown",
   "id": "8e3d4be0",
   "metadata": {},
   "source": [
    "## Check Missing Values"
   ]
  },
  {
   "cell_type": "code",
   "execution_count": 9,
   "id": "4e658b62",
   "metadata": {},
   "outputs": [
    {
     "data": {
      "text/plain": [
       "tpep_pickup_datetime    0\n",
       "passenger_count         0\n",
       "VendorID                0\n",
       "dtype: int64"
      ]
     },
     "execution_count": 9,
     "metadata": {},
     "output_type": "execute_result"
    }
   ],
   "source": [
    "df.isnull().sum()"
   ]
  },
  {
   "cell_type": "code",
   "execution_count": 10,
   "id": "861ee642",
   "metadata": {},
   "outputs": [],
   "source": [
    "### There are no missing values"
   ]
  },
  {
   "cell_type": "markdown",
   "id": "21b7f0b5",
   "metadata": {},
   "source": [
    "## Features"
   ]
  },
  {
   "cell_type": "code",
   "execution_count": 11,
   "id": "7bb1b88d",
   "metadata": {},
   "outputs": [
    {
     "data": {
      "text/plain": [
       "Index(['tpep_pickup_datetime', 'passenger_count', 'VendorID'], dtype='object')"
      ]
     },
     "execution_count": 11,
     "metadata": {},
     "output_type": "execute_result"
    }
   ],
   "source": [
    "df.columns"
   ]
  },
  {
   "cell_type": "code",
   "execution_count": 12,
   "id": "da13784e",
   "metadata": {},
   "outputs": [
    {
     "data": {
      "text/html": [
       "<div>\n",
       "<style scoped>\n",
       "    .dataframe tbody tr th:only-of-type {\n",
       "        vertical-align: middle;\n",
       "    }\n",
       "\n",
       "    .dataframe tbody tr th {\n",
       "        vertical-align: top;\n",
       "    }\n",
       "\n",
       "    .dataframe thead th {\n",
       "        text-align: right;\n",
       "    }\n",
       "</style>\n",
       "<table border=\"1\" class=\"dataframe\">\n",
       "  <thead>\n",
       "    <tr style=\"text-align: right;\">\n",
       "      <th></th>\n",
       "      <th>tpep_pickup_datetime</th>\n",
       "      <th>passenger_count</th>\n",
       "      <th>VendorID</th>\n",
       "    </tr>\n",
       "  </thead>\n",
       "  <tbody>\n",
       "    <tr>\n",
       "      <th>0</th>\n",
       "      <td>2022-01-01 00:00:00</td>\n",
       "      <td>6838</td>\n",
       "      <td>4261</td>\n",
       "    </tr>\n",
       "    <tr>\n",
       "      <th>1</th>\n",
       "      <td>2022-01-01 01:00:00</td>\n",
       "      <td>7738</td>\n",
       "      <td>4997</td>\n",
       "    </tr>\n",
       "    <tr>\n",
       "      <th>2</th>\n",
       "      <td>2022-01-01 02:00:00</td>\n",
       "      <td>5974</td>\n",
       "      <td>3901</td>\n",
       "    </tr>\n",
       "    <tr>\n",
       "      <th>3</th>\n",
       "      <td>2022-01-01 03:00:00</td>\n",
       "      <td>4107</td>\n",
       "      <td>2686</td>\n",
       "    </tr>\n",
       "    <tr>\n",
       "      <th>4</th>\n",
       "      <td>2022-01-01 04:00:00</td>\n",
       "      <td>2485</td>\n",
       "      <td>1651</td>\n",
       "    </tr>\n",
       "  </tbody>\n",
       "</table>\n",
       "</div>"
      ],
      "text/plain": [
       "  tpep_pickup_datetime  passenger_count  VendorID\n",
       "0  2022-01-01 00:00:00             6838      4261\n",
       "1  2022-01-01 01:00:00             7738      4997\n",
       "2  2022-01-01 02:00:00             5974      3901\n",
       "3  2022-01-01 03:00:00             4107      2686\n",
       "4  2022-01-01 04:00:00             2485      1651"
      ]
     },
     "execution_count": 12,
     "metadata": {},
     "output_type": "execute_result"
    }
   ],
   "source": [
    "df.head()"
   ]
  },
  {
   "cell_type": "markdown",
   "id": "f62312c3",
   "metadata": {},
   "source": [
    "## Targets"
   ]
  },
  {
   "cell_type": "code",
   "execution_count": 13,
   "id": "5445ce74",
   "metadata": {},
   "outputs": [],
   "source": [
    "### we have to generate hourly demand of taxi drivers by aggregating counts per hour"
   ]
  },
  {
   "cell_type": "code",
   "execution_count": 14,
   "id": "109c4c74",
   "metadata": {},
   "outputs": [
    {
     "data": {
      "text/html": [
       "<div>\n",
       "<style scoped>\n",
       "    .dataframe tbody tr th:only-of-type {\n",
       "        vertical-align: middle;\n",
       "    }\n",
       "\n",
       "    .dataframe tbody tr th {\n",
       "        vertical-align: top;\n",
       "    }\n",
       "\n",
       "    .dataframe thead th {\n",
       "        text-align: right;\n",
       "    }\n",
       "</style>\n",
       "<table border=\"1\" class=\"dataframe\">\n",
       "  <thead>\n",
       "    <tr style=\"text-align: right;\">\n",
       "      <th></th>\n",
       "      <th>passenger_count</th>\n",
       "      <th>VendorID</th>\n",
       "    </tr>\n",
       "  </thead>\n",
       "  <tbody>\n",
       "    <tr>\n",
       "      <th>0</th>\n",
       "      <td>6838</td>\n",
       "      <td>4261</td>\n",
       "    </tr>\n",
       "    <tr>\n",
       "      <th>1</th>\n",
       "      <td>7738</td>\n",
       "      <td>4997</td>\n",
       "    </tr>\n",
       "    <tr>\n",
       "      <th>2</th>\n",
       "      <td>5974</td>\n",
       "      <td>3901</td>\n",
       "    </tr>\n",
       "    <tr>\n",
       "      <th>3</th>\n",
       "      <td>4107</td>\n",
       "      <td>2686</td>\n",
       "    </tr>\n",
       "    <tr>\n",
       "      <th>4</th>\n",
       "      <td>2485</td>\n",
       "      <td>1651</td>\n",
       "    </tr>\n",
       "    <tr>\n",
       "      <th>5</th>\n",
       "      <td>1215</td>\n",
       "      <td>827</td>\n",
       "    </tr>\n",
       "  </tbody>\n",
       "</table>\n",
       "</div>"
      ],
      "text/plain": [
       "   passenger_count  VendorID\n",
       "0             6838      4261\n",
       "1             7738      4997\n",
       "2             5974      3901\n",
       "3             4107      2686\n",
       "4             2485      1651\n",
       "5             1215       827"
      ]
     },
     "execution_count": 14,
     "metadata": {},
     "output_type": "execute_result"
    }
   ],
   "source": [
    "df.loc[:5, ['passenger_count', 'VendorID']]"
   ]
  },
  {
   "cell_type": "markdown",
   "id": "78fefc1b",
   "metadata": {},
   "source": [
    "## Format Column Names"
   ]
  },
  {
   "cell_type": "code",
   "execution_count": 15,
   "id": "4588fa56",
   "metadata": {},
   "outputs": [],
   "source": [
    "### column names need to be renamed"
   ]
  },
  {
   "cell_type": "markdown",
   "id": "6794a016",
   "metadata": {},
   "source": [
    "# Univariate EDA"
   ]
  },
  {
   "cell_type": "markdown",
   "id": "be9d2707",
   "metadata": {},
   "source": [
    "### summary stats"
   ]
  },
  {
   "cell_type": "code",
   "execution_count": 16,
   "id": "3e5c37ed",
   "metadata": {},
   "outputs": [
    {
     "data": {
      "text/html": [
       "<div>\n",
       "<style scoped>\n",
       "    .dataframe tbody tr th:only-of-type {\n",
       "        vertical-align: middle;\n",
       "    }\n",
       "\n",
       "    .dataframe tbody tr th {\n",
       "        vertical-align: top;\n",
       "    }\n",
       "\n",
       "    .dataframe thead th {\n",
       "        text-align: right;\n",
       "    }\n",
       "</style>\n",
       "<table border=\"1\" class=\"dataframe\">\n",
       "  <thead>\n",
       "    <tr style=\"text-align: right;\">\n",
       "      <th></th>\n",
       "      <th>count</th>\n",
       "      <th>mean</th>\n",
       "      <th>std</th>\n",
       "      <th>min</th>\n",
       "      <th>25%</th>\n",
       "      <th>50%</th>\n",
       "      <th>75%</th>\n",
       "      <th>max</th>\n",
       "    </tr>\n",
       "  </thead>\n",
       "  <tbody>\n",
       "    <tr>\n",
       "      <th>passenger_count</th>\n",
       "      <td>21624.0</td>\n",
       "      <td>2549.636469</td>\n",
       "      <td>3826.748604</td>\n",
       "      <td>0.0</td>\n",
       "      <td>0.0</td>\n",
       "      <td>0.0</td>\n",
       "      <td>5685.00</td>\n",
       "      <td>14770.0</td>\n",
       "    </tr>\n",
       "    <tr>\n",
       "      <th>VendorID</th>\n",
       "      <td>21624.0</td>\n",
       "      <td>1833.866907</td>\n",
       "      <td>2745.905504</td>\n",
       "      <td>0.0</td>\n",
       "      <td>0.0</td>\n",
       "      <td>0.0</td>\n",
       "      <td>4103.25</td>\n",
       "      <td>10527.0</td>\n",
       "    </tr>\n",
       "  </tbody>\n",
       "</table>\n",
       "</div>"
      ],
      "text/plain": [
       "                   count         mean          std  min  25%  50%      75%  \\\n",
       "passenger_count  21624.0  2549.636469  3826.748604  0.0  0.0  0.0  5685.00   \n",
       "VendorID         21624.0  1833.866907  2745.905504  0.0  0.0  0.0  4103.25   \n",
       "\n",
       "                     max  \n",
       "passenger_count  14770.0  \n",
       "VendorID         10527.0  "
      ]
     },
     "execution_count": 16,
     "metadata": {},
     "output_type": "execute_result"
    }
   ],
   "source": [
    "df.describe().T"
   ]
  },
  {
   "cell_type": "markdown",
   "id": "da623354",
   "metadata": {},
   "source": [
    "### distributions"
   ]
  },
  {
   "cell_type": "code",
   "execution_count": 17,
   "id": "03673909",
   "metadata": {
    "scrolled": true
   },
   "outputs": [
    {
     "data": {
      "text/plain": [
       "Index(['passenger_count', 'VendorID'], dtype='object')"
      ]
     },
     "execution_count": 17,
     "metadata": {},
     "output_type": "execute_result"
    }
   ],
   "source": [
    "df.select_dtypes(['int64']).columns"
   ]
  },
  {
   "cell_type": "code",
   "execution_count": 19,
   "id": "ad7da671",
   "metadata": {
    "scrolled": false
   },
   "outputs": [
    {
     "data": {
      "image/png": "[encoded data removed]",
      "text/plain": [
       "<Figure size 1800x800 with 2 Axes>"
      ]
     },
     "metadata": {},
     "output_type": "display_data"
    }
   ],
   "source": [
    "# Continuous Feature distribution\n",
    "cols = list(df.select_dtypes(['int64']).columns)\n",
    "fig, grid = plt.subplots(1, 2, figsize=(18, 8))\n",
    "colId = 0\n",
    "\n",
    "for row in range(1):\n",
    "    for col in range(2):\n",
    "        feature = cols[colId]\n",
    "        sns.histplot(data=df, ax=grid[col], x=feature, label=feature, bins=28, kde=True)\n",
    "        grid[col].set_title(f'{feature} Distribution')\n",
    "        colId += 1\n",
    "plt.tight_layout()\n",
    "plt.show()"
   ]
  },
  {
   "cell_type": "code",
   "execution_count": null,
   "id": "48339304",
   "metadata": {},
   "outputs": [],
   "source": []
  },
  {
   "cell_type": "markdown",
   "id": "97b778db",
   "metadata": {},
   "source": [
    "### Outliers"
   ]
  },
  {
   "cell_type": "code",
   "execution_count": 68,
   "id": "734b1f72",
   "metadata": {},
   "outputs": [
    {
     "data": {
      "image/png": "[encoded data removed]",
      "text/plain": [
       "<Figure size 1800x2000 with 2 Axes>"
      ]
     },
     "metadata": {},
     "output_type": "display_data"
    }
   ],
   "source": [
    "fig, grid = plt.subplots(1, 2, figsize=(18, 20))\n",
    "sns.boxplot(data=df, ax=grid[0], y='passenger_count')\n",
    "grid[0].set_title(f'passenger_count DIstribution')\n",
    "sns.boxplot(data=df, ax=grid[1], y='VendorID')\n",
    "grid[1].set_title(f'Rides Distribution')\n",
    "plt.tight_layout()\n",
    "plt.show()"
   ]
  },
  {
   "cell_type": "code",
   "execution_count": null,
   "id": "1312082f",
   "metadata": {},
   "outputs": [],
   "source": [
    "### we have negelegible outliers on data, but still analysis is required to know the effect"
   ]
  },
  {
   "cell_type": "code",
   "execution_count": null,
   "id": "70ffffeb",
   "metadata": {},
   "outputs": [],
   "source": []
  },
  {
   "cell_type": "code",
   "execution_count": null,
   "id": "d7bb3e6d",
   "metadata": {},
   "outputs": [],
   "source": []
  }
 ],
 "metadata": {
  "kernelspec": {
   "display_name": "Python 3 (ipykernel)",
   "language": "python",
   "name": "python3"
  },
  "language_info": {
   "codemirror_mode": {
    "name": "ipython",
    "version": 3
   },
   "file_extension": ".py",
   "mimetype": "text/x-python",
   "name": "python",
   "nbconvert_exporter": "python",
   "pygments_lexer": "ipython3",
   "version": "3.10.6"
  }
 },
 "nbformat": 4,
 "nbformat_minor": 5
}
