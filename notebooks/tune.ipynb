{
 "cells": [
  {
   "cell_type": "code",
   "execution_count": 1,
   "metadata": {},
   "outputs": [],
   "source": [
    "import pandas as pd"
   ]
  },
  {
   "cell_type": "code",
   "execution_count": null,
   "metadata": {},
   "outputs": [],
   "source": []
  },
  {
   "cell_type": "code",
   "execution_count": 2,
   "metadata": {},
   "outputs": [],
   "source": [
    "df = pd.read_parquet('../data/feature-2022.parquet')\n",
    "X_train = df.drop(columns=[\"taxi_demand\",])\n",
    "y_train = df.taxi_demand\n",
    "df2 = pd.read_parquet('../data/feature-2023.parquet')\n",
    "X_test = df2.drop(columns=[\"taxi_demand\",])\n",
    "y_test = df2.taxi_demand"
   ]
  },
  {
   "cell_type": "code",
   "execution_count": 3,
   "metadata": {},
   "outputs": [
    {
     "data": {
      "text/plain": [
       "((8713, 20), (1592, 20))"
      ]
     },
     "execution_count": 3,
     "metadata": {},
     "output_type": "execute_result"
    }
   ],
   "source": [
    "df.shape, df2.shape"
   ]
  },
  {
   "cell_type": "code",
   "execution_count": 4,
   "metadata": {},
   "outputs": [],
   "source": [
    "df.ffill(inplace=True)"
   ]
  },
  {
   "cell_type": "code",
   "execution_count": 5,
   "metadata": {},
   "outputs": [
    {
     "data": {
      "text/plain": [
       "PC1            0\n",
       "PC2            0\n",
       "PC3            0\n",
       "PC4            0\n",
       "PC5            0\n",
       "PC6            0\n",
       "PC7            0\n",
       "PC8            0\n",
       "PC9            0\n",
       "PC10           0\n",
       "PC11           0\n",
       "PC12           0\n",
       "PC13           0\n",
       "PC14           0\n",
       "PC15           0\n",
       "PC16           0\n",
       "PC17           0\n",
       "PC18           0\n",
       "PC19           0\n",
       "taxi_demand    0\n",
       "dtype: int64"
      ]
     },
     "execution_count": 5,
     "metadata": {},
     "output_type": "execute_result"
    }
   ],
   "source": [
    "df.isnull().sum()"
   ]
  },
  {
   "cell_type": "code",
   "execution_count": 6,
   "metadata": {},
   "outputs": [
    {
     "data": {
      "text/plain": [
       "1592"
      ]
     },
     "execution_count": 6,
     "metadata": {},
     "output_type": "execute_result"
    }
   ],
   "source": [
    "df2.taxi_demand.isnull().sum()"
   ]
  },
  {
   "cell_type": "code",
   "execution_count": 7,
   "metadata": {},
   "outputs": [
    {
     "data": {
      "text/html": [
       "<div>\n",
       "<style scoped>\n",
       "    .dataframe tbody tr th:only-of-type {\n",
       "        vertical-align: middle;\n",
       "    }\n",
       "\n",
       "    .dataframe tbody tr th {\n",
       "        vertical-align: top;\n",
       "    }\n",
       "\n",
       "    .dataframe thead th {\n",
       "        text-align: right;\n",
       "    }\n",
       "</style>\n",
       "<table border=\"1\" class=\"dataframe\">\n",
       "  <thead>\n",
       "    <tr style=\"text-align: right;\">\n",
       "      <th></th>\n",
       "      <th>PC1</th>\n",
       "      <th>PC2</th>\n",
       "      <th>PC3</th>\n",
       "      <th>PC4</th>\n",
       "      <th>PC5</th>\n",
       "      <th>PC6</th>\n",
       "      <th>PC7</th>\n",
       "      <th>PC8</th>\n",
       "      <th>PC9</th>\n",
       "      <th>PC10</th>\n",
       "      <th>PC11</th>\n",
       "      <th>PC12</th>\n",
       "      <th>PC13</th>\n",
       "      <th>PC14</th>\n",
       "      <th>PC15</th>\n",
       "      <th>PC16</th>\n",
       "      <th>PC17</th>\n",
       "      <th>PC18</th>\n",
       "      <th>PC19</th>\n",
       "      <th>taxi_demand</th>\n",
       "    </tr>\n",
       "  </thead>\n",
       "  <tbody>\n",
       "    <tr>\n",
       "      <th>0</th>\n",
       "      <td>23.718273</td>\n",
       "      <td>14.930842</td>\n",
       "      <td>25.355853</td>\n",
       "      <td>8.588989</td>\n",
       "      <td>6.786783</td>\n",
       "      <td>-10.252492</td>\n",
       "      <td>-6.724879</td>\n",
       "      <td>-3.978018</td>\n",
       "      <td>-4.377113</td>\n",
       "      <td>0.737261</td>\n",
       "      <td>-15.359071</td>\n",
       "      <td>-0.060347</td>\n",
       "      <td>5.135709e-18</td>\n",
       "      <td>-1.382836e-18</td>\n",
       "      <td>4.033395e-18</td>\n",
       "      <td>2.777329e-18</td>\n",
       "      <td>9.533014e-19</td>\n",
       "      <td>8.186722e-19</td>\n",
       "      <td>1.828294e-18</td>\n",
       "      <td>NaN</td>\n",
       "    </tr>\n",
       "    <tr>\n",
       "      <th>1</th>\n",
       "      <td>3.807196</td>\n",
       "      <td>-0.702940</td>\n",
       "      <td>-2.078457</td>\n",
       "      <td>-0.502498</td>\n",
       "      <td>-0.952596</td>\n",
       "      <td>-1.075451</td>\n",
       "      <td>-0.169224</td>\n",
       "      <td>0.961579</td>\n",
       "      <td>-0.357883</td>\n",
       "      <td>-1.981192</td>\n",
       "      <td>-0.292281</td>\n",
       "      <td>2.143428</td>\n",
       "      <td>-5.831804e-16</td>\n",
       "      <td>1.629189e-16</td>\n",
       "      <td>-4.805115e-16</td>\n",
       "      <td>-2.188063e-16</td>\n",
       "      <td>-9.877639e-17</td>\n",
       "      <td>7.854493e-17</td>\n",
       "      <td>-2.254140e-16</td>\n",
       "      <td>NaN</td>\n",
       "    </tr>\n",
       "    <tr>\n",
       "      <th>2</th>\n",
       "      <td>12.390297</td>\n",
       "      <td>4.294840</td>\n",
       "      <td>4.633114</td>\n",
       "      <td>-0.524657</td>\n",
       "      <td>-2.017603</td>\n",
       "      <td>4.936140</td>\n",
       "      <td>5.132366</td>\n",
       "      <td>-6.536679</td>\n",
       "      <td>-7.906023</td>\n",
       "      <td>-2.232191</td>\n",
       "      <td>8.965390</td>\n",
       "      <td>0.441244</td>\n",
       "      <td>6.859584e-16</td>\n",
       "      <td>6.260773e-16</td>\n",
       "      <td>2.433696e-16</td>\n",
       "      <td>5.157581e-16</td>\n",
       "      <td>2.872118e-16</td>\n",
       "      <td>6.546763e-16</td>\n",
       "      <td>-3.157676e-16</td>\n",
       "      <td>NaN</td>\n",
       "    </tr>\n",
       "    <tr>\n",
       "      <th>3</th>\n",
       "      <td>7.319921</td>\n",
       "      <td>1.029894</td>\n",
       "      <td>-0.167156</td>\n",
       "      <td>-0.922772</td>\n",
       "      <td>-1.066377</td>\n",
       "      <td>1.126567</td>\n",
       "      <td>0.672173</td>\n",
       "      <td>4.652307</td>\n",
       "      <td>5.595849</td>\n",
       "      <td>1.065017</td>\n",
       "      <td>-0.067521</td>\n",
       "      <td>1.039021</td>\n",
       "      <td>-1.173094e-15</td>\n",
       "      <td>-7.903969e-16</td>\n",
       "      <td>-5.486438e-16</td>\n",
       "      <td>-4.977726e-16</td>\n",
       "      <td>-3.128570e-16</td>\n",
       "      <td>-3.293095e-16</td>\n",
       "      <td>2.524719e-16</td>\n",
       "      <td>NaN</td>\n",
       "    </tr>\n",
       "    <tr>\n",
       "      <th>4</th>\n",
       "      <td>18.320177</td>\n",
       "      <td>9.328241</td>\n",
       "      <td>14.014048</td>\n",
       "      <td>3.330964</td>\n",
       "      <td>1.054496</td>\n",
       "      <td>-1.995706</td>\n",
       "      <td>0.691989</td>\n",
       "      <td>-1.674017</td>\n",
       "      <td>-2.040926</td>\n",
       "      <td>-1.952490</td>\n",
       "      <td>22.957588</td>\n",
       "      <td>-0.450683</td>\n",
       "      <td>-3.352756e-16</td>\n",
       "      <td>-3.151129e-16</td>\n",
       "      <td>-1.156347e-16</td>\n",
       "      <td>-2.537131e-16</td>\n",
       "      <td>-1.421760e-16</td>\n",
       "      <td>-3.261102e-16</td>\n",
       "      <td>1.606263e-16</td>\n",
       "      <td>NaN</td>\n",
       "    </tr>\n",
       "  </tbody>\n",
       "</table>\n",
       "</div>"
      ],
      "text/plain": [
       "         PC1        PC2        PC3       PC4       PC5        PC6       PC7  \\\n",
       "0  23.718273  14.930842  25.355853  8.588989  6.786783 -10.252492 -6.724879   \n",
       "1   3.807196  -0.702940  -2.078457 -0.502498 -0.952596  -1.075451 -0.169224   \n",
       "2  12.390297   4.294840   4.633114 -0.524657 -2.017603   4.936140  5.132366   \n",
       "3   7.319921   1.029894  -0.167156 -0.922772 -1.066377   1.126567  0.672173   \n",
       "4  18.320177   9.328241  14.014048  3.330964  1.054496  -1.995706  0.691989   \n",
       "\n",
       "        PC8       PC9      PC10       PC11      PC12          PC13  \\\n",
       "0 -3.978018 -4.377113  0.737261 -15.359071 -0.060347  5.135709e-18   \n",
       "1  0.961579 -0.357883 -1.981192  -0.292281  2.143428 -5.831804e-16   \n",
       "2 -6.536679 -7.906023 -2.232191   8.965390  0.441244  6.859584e-16   \n",
       "3  4.652307  5.595849  1.065017  -0.067521  1.039021 -1.173094e-15   \n",
       "4 -1.674017 -2.040926 -1.952490  22.957588 -0.450683 -3.352756e-16   \n",
       "\n",
       "           PC14          PC15          PC16          PC17          PC18  \\\n",
       "0 -1.382836e-18  4.033395e-18  2.777329e-18  9.533014e-19  8.186722e-19   \n",
       "1  1.629189e-16 -4.805115e-16 -2.188063e-16 -9.877639e-17  7.854493e-17   \n",
       "2  6.260773e-16  2.433696e-16  5.157581e-16  2.872118e-16  6.546763e-16   \n",
       "3 -7.903969e-16 -5.486438e-16 -4.977726e-16 -3.128570e-16 -3.293095e-16   \n",
       "4 -3.151129e-16 -1.156347e-16 -2.537131e-16 -1.421760e-16 -3.261102e-16   \n",
       "\n",
       "           PC19  taxi_demand  \n",
       "0  1.828294e-18          NaN  \n",
       "1 -2.254140e-16          NaN  \n",
       "2 -3.157676e-16          NaN  \n",
       "3  2.524719e-16          NaN  \n",
       "4  1.606263e-16          NaN  "
      ]
     },
     "execution_count": 7,
     "metadata": {},
     "output_type": "execute_result"
    }
   ],
   "source": [
    "df2.head()"
   ]
  },
  {
   "cell_type": "code",
   "execution_count": null,
   "metadata": {},
   "outputs": [],
   "source": []
  },
  {
   "cell_type": "code",
   "execution_count": null,
   "metadata": {},
   "outputs": [],
   "source": []
  }
 ],
 "metadata": {
  "kernelspec": {
   "display_name": "timeseriesEnv",
   "language": "python",
   "name": "python3"
  },
  "language_info": {
   "codemirror_mode": {
    "name": "ipython",
    "version": 3
   },
   "file_extension": ".py",
   "mimetype": "text/x-python",
   "name": "python",
   "nbconvert_exporter": "python",
   "pygments_lexer": "ipython3",
   "version": "3.10.6"
  }
 },
 "nbformat": 4,
 "nbformat_minor": 2
}
