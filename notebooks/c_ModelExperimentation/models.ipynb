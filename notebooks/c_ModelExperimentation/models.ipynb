{
 "cells": [
  {
   "cell_type": "code",
   "execution_count": 1,
   "id": "8be641b2",
   "metadata": {},
   "outputs": [],
   "source": [
    "import pandas as pd\n",
    "import numpy as np"
   ]
  },
  {
   "cell_type": "code",
   "execution_count": 2,
   "id": "603f87c8",
   "metadata": {},
   "outputs": [],
   "source": [
    "from sklearn.model_selection import TimeSeriesSplit"
   ]
  },
  {
   "cell_type": "markdown",
   "id": "96094546",
   "metadata": {},
   "source": [
    "<center><b>Data Prep</b></center>"
   ]
  },
  {
   "cell_type": "code",
   "execution_count": 3,
   "id": "2f61f7b8",
   "metadata": {
    "scrolled": false
   },
   "outputs": [
    {
     "data": {
      "text/html": [
       "<div>\n",
       "<style scoped>\n",
       "    .dataframe tbody tr th:only-of-type {\n",
       "        vertical-align: middle;\n",
       "    }\n",
       "\n",
       "    .dataframe tbody tr th {\n",
       "        vertical-align: top;\n",
       "    }\n",
       "\n",
       "    .dataframe thead th {\n",
       "        text-align: right;\n",
       "    }\n",
       "</style>\n",
       "<table border=\"1\" class=\"dataframe\">\n",
       "  <thead>\n",
       "    <tr style=\"text-align: right;\">\n",
       "      <th></th>\n",
       "      <th>0</th>\n",
       "      <th>1</th>\n",
       "      <th>2</th>\n",
       "      <th>3</th>\n",
       "      <th>4</th>\n",
       "    </tr>\n",
       "  </thead>\n",
       "  <tbody>\n",
       "    <tr>\n",
       "      <th>timestamp</th>\n",
       "      <td>2022-01-02 00:00:00</td>\n",
       "      <td>2022-01-02 01:00:00</td>\n",
       "      <td>2022-01-02 02:00:00</td>\n",
       "      <td>2022-01-02 03:00:00</td>\n",
       "      <td>2022-01-02 04:00:00</td>\n",
       "    </tr>\n",
       "    <tr>\n",
       "      <th>taxiDemand</th>\n",
       "      <td>1483</td>\n",
       "      <td>1016</td>\n",
       "      <td>703</td>\n",
       "      <td>502</td>\n",
       "      <td>357</td>\n",
       "    </tr>\n",
       "    <tr>\n",
       "      <th>timestamp_day_of_week</th>\n",
       "      <td>6</td>\n",
       "      <td>6</td>\n",
       "      <td>6</td>\n",
       "      <td>6</td>\n",
       "      <td>6</td>\n",
       "    </tr>\n",
       "    <tr>\n",
       "      <th>passengerDemand_window_7_std</th>\n",
       "      <td>1132.856188</td>\n",
       "      <td>1264.258469</td>\n",
       "      <td>1292.484006</td>\n",
       "      <td>1294.830068</td>\n",
       "      <td>1351.861486</td>\n",
       "    </tr>\n",
       "    <tr>\n",
       "      <th>passengerDemand_expanding_std</th>\n",
       "      <td>1926.172935</td>\n",
       "      <td>1920.277885</td>\n",
       "      <td>1941.251618</td>\n",
       "      <td>1983.175723</td>\n",
       "      <td>2029.912596</td>\n",
       "    </tr>\n",
       "    <tr>\n",
       "      <th>passengerDemand_lag_8</th>\n",
       "      <td>5754.0</td>\n",
       "      <td>5881.0</td>\n",
       "      <td>5875.0</td>\n",
       "      <td>5296.0</td>\n",
       "      <td>4214.0</td>\n",
       "    </tr>\n",
       "    <tr>\n",
       "      <th>passengerDemand_lag_24</th>\n",
       "      <td>6838.0</td>\n",
       "      <td>7738.0</td>\n",
       "      <td>5974.0</td>\n",
       "      <td>4107.0</td>\n",
       "      <td>2485.0</td>\n",
       "    </tr>\n",
       "    <tr>\n",
       "      <th>timestamp_year_start</th>\n",
       "      <td>0</td>\n",
       "      <td>0</td>\n",
       "      <td>0</td>\n",
       "      <td>0</td>\n",
       "      <td>0</td>\n",
       "    </tr>\n",
       "    <tr>\n",
       "      <th>timestamp_month_end</th>\n",
       "      <td>0</td>\n",
       "      <td>0</td>\n",
       "      <td>0</td>\n",
       "      <td>0</td>\n",
       "      <td>0</td>\n",
       "    </tr>\n",
       "    <tr>\n",
       "      <th>passengerDemand_lag_1</th>\n",
       "      <td>2798.0</td>\n",
       "      <td>2288.0</td>\n",
       "      <td>1594.0</td>\n",
       "      <td>1047.0</td>\n",
       "      <td>776.0</td>\n",
       "    </tr>\n",
       "    <tr>\n",
       "      <th>timestamp_day_of_month</th>\n",
       "      <td>2</td>\n",
       "      <td>2</td>\n",
       "      <td>2</td>\n",
       "      <td>2</td>\n",
       "      <td>2</td>\n",
       "    </tr>\n",
       "    <tr>\n",
       "      <th>timestamp_month_start</th>\n",
       "      <td>0</td>\n",
       "      <td>0</td>\n",
       "      <td>0</td>\n",
       "      <td>0</td>\n",
       "      <td>0</td>\n",
       "    </tr>\n",
       "    <tr>\n",
       "      <th>timestamp_hour</th>\n",
       "      <td>0</td>\n",
       "      <td>1</td>\n",
       "      <td>2</td>\n",
       "      <td>3</td>\n",
       "      <td>4</td>\n",
       "    </tr>\n",
       "    <tr>\n",
       "      <th>passengerDemand_lag_16</th>\n",
       "      <td>1233.0</td>\n",
       "      <td>1868.0</td>\n",
       "      <td>2721.0</td>\n",
       "      <td>3759.0</td>\n",
       "      <td>4633.0</td>\n",
       "    </tr>\n",
       "    <tr>\n",
       "      <th>passengerDemand_lag_4</th>\n",
       "      <td>4214.0</td>\n",
       "      <td>4176.0</td>\n",
       "      <td>3989.0</td>\n",
       "      <td>2798.0</td>\n",
       "      <td>2288.0</td>\n",
       "    </tr>\n",
       "    <tr>\n",
       "      <th>passengerDemand_lag_2</th>\n",
       "      <td>3989.0</td>\n",
       "      <td>2798.0</td>\n",
       "      <td>2288.0</td>\n",
       "      <td>1594.0</td>\n",
       "      <td>1047.0</td>\n",
       "    </tr>\n",
       "    <tr>\n",
       "      <th>timestamp_year_end</th>\n",
       "      <td>0</td>\n",
       "      <td>0</td>\n",
       "      <td>0</td>\n",
       "      <td>0</td>\n",
       "      <td>0</td>\n",
       "    </tr>\n",
       "  </tbody>\n",
       "</table>\n",
       "</div>"
      ],
      "text/plain": [
       "                                                 0                    1  \\\n",
       "timestamp                      2022-01-02 00:00:00  2022-01-02 01:00:00   \n",
       "taxiDemand                                    1483                 1016   \n",
       "timestamp_day_of_week                            6                    6   \n",
       "passengerDemand_window_7_std           1132.856188          1264.258469   \n",
       "passengerDemand_expanding_std          1926.172935          1920.277885   \n",
       "passengerDemand_lag_8                       5754.0               5881.0   \n",
       "passengerDemand_lag_24                      6838.0               7738.0   \n",
       "timestamp_year_start                             0                    0   \n",
       "timestamp_month_end                              0                    0   \n",
       "passengerDemand_lag_1                       2798.0               2288.0   \n",
       "timestamp_day_of_month                           2                    2   \n",
       "timestamp_month_start                            0                    0   \n",
       "timestamp_hour                                   0                    1   \n",
       "passengerDemand_lag_16                      1233.0               1868.0   \n",
       "passengerDemand_lag_4                       4214.0               4176.0   \n",
       "passengerDemand_lag_2                       3989.0               2798.0   \n",
       "timestamp_year_end                               0                    0   \n",
       "\n",
       "                                                 2                    3  \\\n",
       "timestamp                      2022-01-02 02:00:00  2022-01-02 03:00:00   \n",
       "taxiDemand                                     703                  502   \n",
       "timestamp_day_of_week                            6                    6   \n",
       "passengerDemand_window_7_std           1292.484006          1294.830068   \n",
       "passengerDemand_expanding_std          1941.251618          1983.175723   \n",
       "passengerDemand_lag_8                       5875.0               5296.0   \n",
       "passengerDemand_lag_24                      5974.0               4107.0   \n",
       "timestamp_year_start                             0                    0   \n",
       "timestamp_month_end                              0                    0   \n",
       "passengerDemand_lag_1                       1594.0               1047.0   \n",
       "timestamp_day_of_month                           2                    2   \n",
       "timestamp_month_start                            0                    0   \n",
       "timestamp_hour                                   2                    3   \n",
       "passengerDemand_lag_16                      2721.0               3759.0   \n",
       "passengerDemand_lag_4                       3989.0               2798.0   \n",
       "passengerDemand_lag_2                       2288.0               1594.0   \n",
       "timestamp_year_end                               0                    0   \n",
       "\n",
       "                                                 4  \n",
       "timestamp                      2022-01-02 04:00:00  \n",
       "taxiDemand                                     357  \n",
       "timestamp_day_of_week                            6  \n",
       "passengerDemand_window_7_std           1351.861486  \n",
       "passengerDemand_expanding_std          2029.912596  \n",
       "passengerDemand_lag_8                       4214.0  \n",
       "passengerDemand_lag_24                      2485.0  \n",
       "timestamp_year_start                             0  \n",
       "timestamp_month_end                              0  \n",
       "passengerDemand_lag_1                        776.0  \n",
       "timestamp_day_of_month                           2  \n",
       "timestamp_month_start                            0  \n",
       "timestamp_hour                                   4  \n",
       "passengerDemand_lag_16                      4633.0  \n",
       "passengerDemand_lag_4                       2288.0  \n",
       "passengerDemand_lag_2                       1047.0  \n",
       "timestamp_year_end                               0  "
      ]
     },
     "execution_count": 3,
     "metadata": {},
     "output_type": "execute_result"
    }
   ],
   "source": [
    "data = pd.read_parquet(\n",
    "    'd:/uber-taxi-demand/data/yellow_trip_features_v4.parquet'\n",
    ")\n",
    "\n",
    "data.head().T"
   ]
  },
  {
   "cell_type": "code",
   "execution_count": null,
   "id": "076f97ff",
   "metadata": {},
   "outputs": [],
   "source": []
  },
  {
   "cell_type": "code",
   "execution_count": 4,
   "id": "8149be82",
   "metadata": {},
   "outputs": [],
   "source": [
    "tscv = TimeSeriesSplit(n_splits=5)\n",
    "\n",
    "for train_index, test_index in tscv.split(data):\n",
    "    train, test = data.loc[train_index], data.loc[test_index]"
   ]
  },
  {
   "cell_type": "code",
   "execution_count": 5,
   "id": "c8cb94f9",
   "metadata": {},
   "outputs": [
    {
     "data": {
      "text/plain": [
       "(7261, 17)"
      ]
     },
     "execution_count": 5,
     "metadata": {},
     "output_type": "execute_result"
    }
   ],
   "source": [
    "train.shape"
   ]
  },
  {
   "cell_type": "code",
   "execution_count": 6,
   "id": "777dc396",
   "metadata": {},
   "outputs": [
    {
     "data": {
      "text/plain": [
       "(1452, 17)"
      ]
     },
     "execution_count": 6,
     "metadata": {},
     "output_type": "execute_result"
    }
   ],
   "source": [
    "test.shape"
   ]
  },
  {
   "cell_type": "code",
   "execution_count": null,
   "id": "89c119b9",
   "metadata": {},
   "outputs": [],
   "source": []
  },
  {
   "cell_type": "code",
   "execution_count": null,
   "id": "7dca04aa",
   "metadata": {},
   "outputs": [],
   "source": []
  },
  {
   "cell_type": "markdown",
   "id": "0b6c229a",
   "metadata": {},
   "source": [
    "<center><b>XGBoost</b></center>"
   ]
  },
  {
   "cell_type": "code",
   "execution_count": 19,
   "id": "fa3d0c0b",
   "metadata": {},
   "outputs": [],
   "source": [
    "import mlflow\n",
    "from mlflow.xgboost import autolog\n",
    "from sklearn.metrics import mean_absolute_percentage_error, mean_squared_log_error, r2_score\n",
    "import xgboost as xgb\n",
    "from scipy.stats import uniform, randint"
   ]
  },
  {
   "cell_type": "code",
   "execution_count": 8,
   "id": "0c0e79c3",
   "metadata": {},
   "outputs": [
    {
     "name": "stdout",
     "output_type": "stream",
     "text": [
      "<Experiment: artifact_location='file:///D:/uber-taxi-demand/notebooks/c_ModelExperimentation/mlruns/954115172674949808', creation_time=1703384061341, experiment_id='954115172674949808', last_update_time=1703384061341, lifecycle_stage='active', name='Uber Taxi-Demand', tags={}>\n"
     ]
    }
   ],
   "source": [
    "if not mlflow.get_experiment_by_name(\"Uber Taxi-Demand\"):\n",
    "    mlflow.create_experiment(\"Uber Taxi-Demand\")\n",
    "else:\n",
    "    print(mlflow.get_experiment_by_name(\"Uber Taxi-Demand\"))"
   ]
  },
  {
   "cell_type": "code",
   "execution_count": null,
   "id": "2c86a785",
   "metadata": {},
   "outputs": [],
   "source": []
  },
  {
   "cell_type": "code",
   "execution_count": 9,
   "id": "6d04cae5",
   "metadata": {},
   "outputs": [],
   "source": [
    "mlflow.set_experiment('Uber Taxi-Demand')\n",
    "### Start an MLflow run\n",
    "with mlflow.start_run():\n",
    "    \n",
    "\n",
    "    ### Train and Evaluate an XGBoost model\n",
    "    params = {'objective': 'reg:squarederror', 'colsample_bytree': 0.3, 'learning_rate': 0.1,\n",
    "              'max_depth': 5, 'alpha': 10, 'n_estimators': 10}\n",
    "    \n",
    "    scores = []\n",
    "    tscv = TimeSeriesSplit(n_splits=5)\n",
    "\n",
    "    for train_index, test_index in tscv.split(data):\n",
    "        train, test = data.loc[train_index], data.loc[test_index]\n",
    "        X_train, y_train = train.drop(columns=['timestamp', 'taxiDemand']), train['taxiDemand']\n",
    "        X_test, y_test = test.drop(columns=['timestamp', 'taxiDemand']), test['taxiDemand']\n",
    "        \n",
    "        ## Train\n",
    "        model = xgb.XGBRegressor(**params)\n",
    "        model.fit(X_train, y_train)\n",
    "        \n",
    "        ## Evaluate\n",
    "        predictions = model.predict(X_test)\n",
    "        score = [\n",
    "            mean_squared_log_error(y_test, predictions),\n",
    "            mean_absolute_percentage_error(y_test, predictions),\n",
    "            r2_score(y_test, predictions)\n",
    "        ]\n",
    "        scores.append(score)\n",
    "\n",
    "    ### Log Params\n",
    "    mlflow.log_params(params=params)\n",
    "    \n",
    "    ### Log metrics\n",
    "    scores_avg = np.array(scores).mean(axis=1)\n",
    "    mlflow.log_metric(\"msle\", scores_avg[0])\n",
    "    mlflow.log_metric(\"mape\", scores_avg[1])\n",
    "    mlflow.log_metric(\"r2\", scores_avg[2])\n",
    "        \n",
    "    ### Log the XGBoost model with autologging\n",
    "    mlflow.xgboost.autolog(\n",
    "        importance_types=None,\n",
    "        log_input_examples=False,\n",
    "        log_model_signatures=True,\n",
    "        log_models=True,\n",
    "        log_datasets=False,\n",
    "        disable=False,\n",
    "        exclusive=False,\n",
    "        disable_for_unsupported_versions=False,\n",
    "        silent=False,\n",
    "        registered_model_name=None,\n",
    "        model_format='xgb',\n",
    "        extra_tags=None,\n",
    "    )\n",
    "\n",
    "\n",
    "\n",
    "    ### Save the model in MLflow format\n",
    "    mlflow.xgboost.log_model(model, \"XGBR\")\n"
   ]
  },
  {
   "cell_type": "code",
   "execution_count": 10,
   "id": "cd186449",
   "metadata": {},
   "outputs": [],
   "source": [
    "xgb.XGBRegressor?"
   ]
  },
  {
   "cell_type": "code",
   "execution_count": 15,
   "id": "65961391",
   "metadata": {},
   "outputs": [],
   "source": [
    "param_dist = {\n",
    "    'learning_rate': uniform(0.01, 0.3),        # Learning rate\n",
    "    'n_estimators': randint(50, 200),             # Number of trees\n",
    "    'max_depth': randint(3, 10),                 # Maximum depth of a tree\n",
    "    'subsample': uniform(0.5, 1.0),              # Subsample ratio of the training instances\n",
    "    'colsample_bytree': uniform(0.5, 1.0),       # Subsample ratio of columns when constructing each tree\n",
    "    'gamma': uniform(0, 1),                      # Minimum loss reduction required to make a further partition on a leaf node of the tree\n",
    "    'reg_alpha': uniform(0, 1),                  # L1 regularization term on weights\n",
    "    'reg_lambda': uniform(0, 1)                  # L2 regularization term on weights\n",
    "}\n",
    "\n",
    "from itertools import permutations, product"
   ]
  },
  {
   "cell_type": "code",
   "execution_count": 18,
   "id": "4b0afd12",
   "metadata": {},
   "outputs": [
    {
     "ename": "TypeError",
     "evalue": "'rv_continuous_frozen' object is not iterable",
     "output_type": "error",
     "traceback": [
      "\u001b[1;31m---------------------------------------------------------------------------\u001b[0m",
      "\u001b[1;31mTypeError\u001b[0m                                 Traceback (most recent call last)",
      "Cell \u001b[1;32mIn[18], line 1\u001b[0m\n\u001b[1;32m----> 1\u001b[0m product(\u001b[38;5;28;43mlist\u001b[39;49m\u001b[43m(\u001b[49m\u001b[43muniform\u001b[49m\u001b[43m(\u001b[49m\u001b[38;5;241;43m0.01\u001b[39;49m\u001b[43m,\u001b[49m\u001b[43m \u001b[49m\u001b[38;5;241;43m0.3\u001b[39;49m\u001b[43m)\u001b[49m\u001b[43m)\u001b[49m, \u001b[38;5;28mlist\u001b[39m(randint(\u001b[38;5;241m50\u001b[39m, \u001b[38;5;241m200\u001b[39m)))\n",
      "\u001b[1;31mTypeError\u001b[0m: 'rv_continuous_frozen' object is not iterable"
     ]
    }
   ],
   "source": [
    "product(list(np.(0.01, 0.3)), list(randint(50, 200)))"
   ]
  },
  {
   "cell_type": "code",
   "execution_count": null,
   "id": "3934523f",
   "metadata": {},
   "outputs": [],
   "source": []
  }
 ],
 "metadata": {
  "kernelspec": {
   "display_name": "Python 3 (ipykernel)",
   "language": "python",
   "name": "python3"
  },
  "language_info": {
   "codemirror_mode": {
    "name": "ipython",
    "version": 3
   },
   "file_extension": ".py",
   "mimetype": "text/x-python",
   "name": "python",
   "nbconvert_exporter": "python",
   "pygments_lexer": "ipython3",
   "version": "3.10.6"
  }
 },
 "nbformat": 4,
 "nbformat_minor": 5
}
